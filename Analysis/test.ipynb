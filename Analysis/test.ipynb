{
 "cells": [
  {
   "cell_type": "code",
   "execution_count": 2,
   "metadata": {},
   "outputs": [
    {
     "name": "stdout",
     "output_type": "stream",
     "text": [
      "Array{Float64,2}\n",
      "  0.328910 seconds (4.01 M allocations: 183.778 MiB, 5.13% gc time)\n",
      "Array{Float64,2}\n",
      "  0.084109 seconds (1.05 M allocations: 124.607 MiB, 5.64% gc time)\n",
      "Array{Float64,2}\n",
      "  0.071744 seconds (1.02 M allocations: 123.243 MiB, 6.83% gc time)\n"
     ]
    }
   ],
   "source": [
    "mutable struct Foo0\n",
    "    a\n",
    "end\n",
    "\"\"\"\n",
    "mutable struct Foo1\n",
    "    a::Float64\n",
    "end\n",
    "\n",
    "\n",
    "function f(foo)\n",
    "    println(typeof(foo.a))\n",
    "    for i in 1:1_000_000\n",
    "        tmp = i + foo.a\n",
    "    end\n",
    "end\n",
    "\n",
    "f0 = Foo0(1.0)\n",
    "@time f(f0)\n",
    "\n",
    "f1 = Foo1(1.0)\n",
    "@time f(f1)\n",
    "\n",
    "\"\"\"\n",
    "mutable struct Foo2\n",
    "    a::Array{Float64}\n",
    "end\n",
    "\n",
    "mutable struct Foo3\n",
    "    a::Array{Float64,2}\n",
    "    b\n",
    "    c\n",
    "end\n",
    "\n",
    "function ff(foo)\n",
    "    println(typeof(foo.a))\n",
    "    for i in 1:1_000_000\n",
    "        tmp = i .+ foo.a\n",
    "    end\n",
    "end\n",
    "\n",
    "\n",
    "f0_bis = Foo0([1.0 1.0 ; 1.0 1.0 ; 1.0 1.0])\n",
    "@time ff(f0_bis)\n",
    "\n",
    "f2 = Foo3([1.0 1.0 ; 1.0 1.0 ; 1.0 1.0], cos, cos)\n",
    "@time ff(f2)\n",
    "\n",
    "\n",
    "a = [1.0 1.0 ; 1.0 1.0 ; 1.0 1.0]\n",
    "function fff(a)\n",
    "    println(typeof(a))\n",
    "    for i in 1:1_000_000\n",
    "        tmp = i .+a\n",
    "    end\n",
    "end\n",
    "@time fff(a)\n",
    "\n"
   ]
  },
  {
   "cell_type": "code",
   "execution_count": 22,
   "metadata": {},
   "outputs": [
    {
     "name": "stdout",
     "output_type": "stream",
     "text": [
      "Complex{Float64}"
     ]
    },
    {
     "data": {
      "text/plain": [
       "6×7 Array{Float64,2}:\n",
       " 0.0  0.0  0.0  0.0  0.0  0.0  0.0\n",
       " 0.0  0.0  0.0  0.0  0.0  0.0  0.0\n",
       " 0.0  0.0  0.0  0.0  0.0  0.0  0.0\n",
       " 0.0  0.0  0.0  0.0  0.0  0.0  0.0\n",
       " 0.0  0.0  0.0  0.0  0.0  0.0  0.0\n",
       " 0.0  0.0  0.0  0.0  0.0  0.0  0.0"
      ]
     },
     "execution_count": 22,
     "metadata": {},
     "output_type": "execute_result"
    }
   ],
   "source": [
    "print(typeof(3.0 * exp(4.0im)))\n",
    "zeros((6,7))\n",
    "\n",
    "\n"
   ]
  },
  {
   "cell_type": "code",
   "execution_count": 6,
   "metadata": {},
   "outputs": [
    {
     "ename": "ErrorException",
     "evalue": "type Array has no field shape",
     "output_type": "error",
     "traceback": [
      "type Array has no field shape",
      "",
      "Stacktrace:",
      " [1] getproperty(::Any, ::Symbol) at ./sysimg.jl:18",
      " [2] top-level scope at In[6]:2"
     ]
    }
   ],
   "source": [
    "A = [1 1 ; 22 2]\n",
    "A.shape()"
   ]
  },
  {
   "cell_type": "code",
   "execution_count": 17,
   "metadata": {},
   "outputs": [
    {
     "data": {
      "text/latex": [
       "$1 + \\alpha^2$"
      ],
      "text/plain": [
       "L\"$1 + \\alpha^2$\""
      ]
     },
     "execution_count": 17,
     "metadata": {},
     "output_type": "execute_result"
    }
   ],
   "source": [
    "for t_coor, mat_var, amp in zip(mat_coor, arr_mat_var, arr_amp):"
   ]
  },
  {
   "cell_type": "code",
   "execution_count": 25,
   "metadata": {},
   "outputs": [
    {
     "data": {
      "text/plain": [
       "2-element Array{Array{Int64,N} where N,1}:\n",
       " [1 2 3]  \n",
       " [1, 2, 4]"
      ]
     },
     "execution_count": 25,
     "metadata": {},
     "output_type": "execute_result"
    }
   ],
   "source": [
    "x =[[1 2 3], [1, 2, 4]]"
   ]
  },
  {
   "cell_type": "code",
   "execution_count": 29,
   "metadata": {},
   "outputs": [
    {
     "data": {
      "text/plain": [
       "2×3 Array{Int64,2}:\n",
       " 1  2  3\n",
       " 1  2  4"
      ]
     },
     "execution_count": 29,
     "metadata": {},
     "output_type": "execute_result"
    }
   ],
   "source": [
    "x = [1 2 3 ; 1 2 4]\n"
   ]
  },
  {
   "cell_type": "code",
   "execution_count": 36,
   "metadata": {},
   "outputs": [
    {
     "data": {
      "text/plain": [
       "6-element Array{Int64,1}:\n",
       " 1\n",
       " 1\n",
       " 2\n",
       " 2\n",
       " 3\n",
       " 4"
      ]
     },
     "execution_count": 36,
     "metadata": {},
     "output_type": "execute_result"
    }
   ],
   "source": [
    "[i for i in x[:]]"
   ]
  },
  {
   "cell_type": "code",
   "execution_count": 93,
   "metadata": {},
   "outputs": [
    {
     "data": {
      "text/plain": [
       "4-element Array{Float64,1}:\n",
       " 0.31830988618379064   \n",
       " 4.847853119120911e-9  \n",
       " 1.7125664442439332e-32\n",
       " 1.4032791063557536e-71"
      ]
     },
     "execution_count": 93,
     "metadata": {},
     "output_type": "execute_result"
    }
   ],
   "source": [
    "using Distributions\n",
    "mu = [1., 2.]\n",
    "sigma = [ 0.5 0\n",
    "          0.  0.5]\n",
    "d = MvNormal(mu, sigma)\n",
    "\n",
    "x1 = [1 2 \n",
    "     4 5 \n",
    "     7 8 \n",
    "     10 11]'\n",
    "\n",
    "x2 = [1 4 \n",
    "     1 5 \n",
    "     4 8 \n",
    "     0 11]'\n",
    "\n",
    "pdf(d, x1)"
   ]
  },
  {
   "cell_type": "code",
   "execution_count": 41,
   "metadata": {},
   "outputs": [
    {
     "data": {
      "text/plain": [
       "2×2 Array{Float64,2}:\n",
       " 0.5  0.0\n",
       " 0.5  0.0"
      ]
     },
     "execution_count": 41,
     "metadata": {},
     "output_type": "execute_result"
    }
   ],
   "source": [
    "sigma = [ 0.5 0\n",
    "          0.5  0]"
   ]
  },
  {
   "cell_type": "code",
   "execution_count": 67,
   "metadata": {},
   "outputs": [
    {
     "name": "stdout",
     "output_type": "stream",
     "text": [
      "1\n",
      "4\n",
      "7\n",
      "10\n",
      "2\n",
      "5\n",
      "8\n",
      "11\n"
     ]
    }
   ],
   "source": [
    "x1 = [1 2 \n",
    "     4 5 \n",
    "     7 8 \n",
    "     10 11]\n",
    "\n",
    "x2 = [1 4 \n",
    "     1 5 \n",
    "     4 8 \n",
    "     0 11]\n",
    "\n",
    "for a in x1\n",
    "    println(a)\n",
    "end"
   ]
  },
  {
   "cell_type": "code",
   "execution_count": 55,
   "metadata": {},
   "outputs": [
    {
     "data": {
      "text/plain": [
       "3×4 LinearAlgebra.Adjoint{Int64,Array{Int64,2}}:\n",
       " 1  4  7  10\n",
       " 2  5  8  11\n",
       " 3  6  9  12"
      ]
     },
     "execution_count": 55,
     "metadata": {},
     "output_type": "execute_result"
    }
   ],
   "source": []
  },
  {
   "cell_type": "code",
   "execution_count": 50,
   "metadata": {},
   "outputs": [
    {
     "data": {
      "text/plain": [
       "2×2 Array{Float64,2}:\n",
       " 0.5  0.0\n",
       " 0.0  0.5"
      ]
     },
     "execution_count": 50,
     "metadata": {},
     "output_type": "execute_result"
    }
   ],
   "source": [
    "sigma = [ 0.5 0\n",
    "          0.  0.5]"
   ]
  },
  {
   "cell_type": "code",
   "execution_count": 91,
   "metadata": {},
   "outputs": [
    {
     "data": {
      "text/plain": [
       "10×10 Array{Tuple{Float64,Float64},2}:\n",
       " (0.0, 0.0)      (0.0, 1.11111)      …  (0.0, 8.88889)      (0.0, 10.0)    \n",
       " (1.11111, 0.0)  (1.11111, 1.11111)     (1.11111, 8.88889)  (1.11111, 10.0)\n",
       " (2.22222, 0.0)  (2.22222, 1.11111)     (2.22222, 8.88889)  (2.22222, 10.0)\n",
       " (3.33333, 0.0)  (3.33333, 1.11111)     (3.33333, 8.88889)  (3.33333, 10.0)\n",
       " (4.44444, 0.0)  (4.44444, 1.11111)     (4.44444, 8.88889)  (4.44444, 10.0)\n",
       " (5.55556, 0.0)  (5.55556, 1.11111)  …  (5.55556, 8.88889)  (5.55556, 10.0)\n",
       " (6.66667, 0.0)  (6.66667, 1.11111)     (6.66667, 8.88889)  (6.66667, 10.0)\n",
       " (7.77778, 0.0)  (7.77778, 1.11111)     (7.77778, 8.88889)  (7.77778, 10.0)\n",
       " (8.88889, 0.0)  (8.88889, 1.11111)     (8.88889, 8.88889)  (8.88889, 10.0)\n",
       " (10.0, 0.0)     (10.0, 1.11111)        (10.0, 8.88889)     (10.0, 10.0)   "
      ]
     },
     "execution_count": 91,
     "metadata": {},
     "output_type": "execute_result"
    }
   ],
   "source": [
    "domain = LinRange(0,10,10)\n",
    "mat_domain=  [ (theta, phi) for theta in domain, phi in domain ]\n",
    "flat_mat_domain = reshape(mat_domain, size(mat_domain,1)*size(mat_domain,2) )\n",
    "mat_domain_back = reshape(flat_mat_domain, (size(mat_domain,1),size(mat_domain,2)) )\n",
    "#for t in mat_domain\n",
    "#    println(t)\n",
    "#end"
   ]
  },
  {
   "cell_type": "code",
   "execution_count": 92,
   "metadata": {},
   "outputs": [
    {
     "name": "stdout",
     "output_type": "stream",
     "text": [
      "\u001b[32m\u001b[1m Resolving\u001b[22m\u001b[39m package versions...\n",
      "\u001b[32m\u001b[1m Installed\u001b[22m\u001b[39m FFTW ───────── v0.2.4\n",
      "\u001b[32m\u001b[1m Installed\u001b[22m\u001b[39m AbstractFFTs ─ v0.3.2\n",
      "\u001b[32m\u001b[1m  Updating\u001b[22m\u001b[39m `~/.julia/environments/v1.0/Project.toml`\n",
      " \u001b[90m [7a1cc6ca]\u001b[39m\u001b[92m + FFTW v0.2.4\u001b[39m\n",
      "\u001b[32m\u001b[1m  Updating\u001b[22m\u001b[39m `~/.julia/environments/v1.0/Manifest.toml`\n",
      " \u001b[90m [621f4979]\u001b[39m\u001b[92m + AbstractFFTs v0.3.2\u001b[39m\n",
      " \u001b[90m [7a1cc6ca]\u001b[39m\u001b[92m + FFTW v0.2.4\u001b[39m\n",
      "\u001b[32m\u001b[1m  Building\u001b[22m\u001b[39m FFTW → `~/.julia/packages/FFTW/p7sLQ/deps/build.log`\n"
     ]
    }
   ],
   "source": [
    "Pkg.add(\"FFTW\")\n"
   ]
  },
  {
   "cell_type": "code",
   "execution_count": 1,
   "metadata": {},
   "outputs": [
    {
     "data": {
      "text/plain": [
       "1×3 Array{Int64,2}:\n",
       " 1  2  3"
      ]
     },
     "execution_count": 1,
     "metadata": {},
     "output_type": "execute_result"
    }
   ],
   "source": [
    "x = [1 2 3]"
   ]
  },
  {
   "cell_type": "code",
   "execution_count": 2,
   "metadata": {},
   "outputs": [
    {
     "data": {
      "text/plain": [
       "3-element Array{Int64,1}:\n",
       " 1\n",
       " 2\n",
       " 3"
      ]
     },
     "execution_count": 2,
     "metadata": {},
     "output_type": "execute_result"
    }
   ],
   "source": [
    "x = [1, 2, 3]"
   ]
  },
  {
   "cell_type": "code",
   "execution_count": 4,
   "metadata": {},
   "outputs": [
    {
     "data": {
      "text/plain": [
       "201-element Array{Float64,1}:\n",
       "   0.0\n",
       "   0.5\n",
       "   1.0\n",
       "   1.5\n",
       "   2.0\n",
       "   2.5\n",
       "   3.0\n",
       "   3.5\n",
       "   4.0\n",
       "   4.5\n",
       "   5.0\n",
       "   5.5\n",
       "   6.0\n",
       "   ⋮  \n",
       "  94.5\n",
       "  95.0\n",
       "  95.5\n",
       "  96.0\n",
       "  96.5\n",
       "  97.0\n",
       "  97.5\n",
       "  98.0\n",
       "  98.5\n",
       "  99.0\n",
       "  99.5\n",
       " 100.0"
      ]
     },
     "execution_count": 4,
     "metadata": {},
     "output_type": "execute_result"
    }
   ],
   "source": [
    "[i for i in 0:0.5:100]"
   ]
  },
  {
   "cell_type": "code",
   "execution_count": 6,
   "metadata": {},
   "outputs": [
    {
     "data": {
      "text/plain": [
       "1×2 Array{Any,2}:\n",
       " #undef  #undef"
      ]
     },
     "execution_count": 6,
     "metadata": {},
     "output_type": "execute_result"
    }
   ],
   "source": [
    "Matrix(undef,1,2)"
   ]
  },
  {
   "cell_type": "code",
   "execution_count": 8,
   "metadata": {},
   "outputs": [
    {
     "name": "stdout",
     "output_type": "stream",
     "text": [
      "search: \u001b[0m\u001b[1mp\u001b[22m\u001b[0m\u001b[1mu\u001b[22m\u001b[0m\u001b[1ms\u001b[22m\u001b[0m\u001b[1mh\u001b[22m\u001b[0m\u001b[1m!\u001b[22m \u001b[0m\u001b[1mp\u001b[22m\u001b[0m\u001b[1mu\u001b[22m\u001b[0m\u001b[1ms\u001b[22m\u001b[0m\u001b[1mh\u001b[22mfirst\u001b[0m\u001b[1m!\u001b[22m \u001b[0m\u001b[1mp\u001b[22m\u001b[0m\u001b[1mu\u001b[22m\u001b[0m\u001b[1ms\u001b[22m\u001b[0m\u001b[1mh\u001b[22mdisplay\n",
      "\n"
     ]
    },
    {
     "data": {
      "text/markdown": [
       "```\n",
       "push!(collection, items...) -> collection\n",
       "```\n",
       "\n",
       "Insert one or more `items` at the end of `collection`.\n",
       "\n",
       "# Examples\n",
       "\n",
       "```jldoctest\n",
       "julia> push!([1, 2, 3], 4, 5, 6)\n",
       "6-element Array{Int64,1}:\n",
       " 1\n",
       " 2\n",
       " 3\n",
       " 4\n",
       " 5\n",
       " 6\n",
       "```\n",
       "\n",
       "Use [`append!`](@ref) to add all the elements of another collection to `collection`. The result of the preceding example is equivalent to `append!([1, 2, 3], [4, 5, 6])`.\n"
      ],
      "text/plain": [
       "\u001b[36m  push!(collection, items...) -> collection\u001b[39m\n",
       "\n",
       "  Insert one or more \u001b[36mitems\u001b[39m at the end of \u001b[36mcollection\u001b[39m.\n",
       "\n",
       "\u001b[1m  Examples\u001b[22m\n",
       "\u001b[1m  ≡≡≡≡≡≡≡≡≡≡\u001b[22m\n",
       "\n",
       "\u001b[36m  julia> push!([1, 2, 3], 4, 5, 6)\u001b[39m\n",
       "\u001b[36m  6-element Array{Int64,1}:\u001b[39m\n",
       "\u001b[36m   1\u001b[39m\n",
       "\u001b[36m   2\u001b[39m\n",
       "\u001b[36m   3\u001b[39m\n",
       "\u001b[36m   4\u001b[39m\n",
       "\u001b[36m   5\u001b[39m\n",
       "\u001b[36m   6\u001b[39m\n",
       "\n",
       "  Use \u001b[36mappend!\u001b[39m to add all the elements of another collection to \u001b[36mcollection\u001b[39m. The\n",
       "  result of the preceding example is equivalent to \u001b[36mappend!([1, 2, 3], [4, 5,\n",
       "  6])\u001b[39m."
      ]
     },
     "execution_count": 8,
     "metadata": {},
     "output_type": "execute_result"
    }
   ],
   "source": [
    "?push!"
   ]
  },
  {
   "cell_type": "code",
   "execution_count": 7,
   "metadata": {},
   "outputs": [
    {
     "name": "stdout",
     "output_type": "stream",
     "text": [
      "abc\n"
     ]
    },
    {
     "ename": "ArgumentError",
     "evalue": "ArgumentError: `nothing` should not be printed; use `show`, `repr`, or custom output instead.",
     "output_type": "error",
     "traceback": [
      "ArgumentError: `nothing` should not be printed; use `show`, `repr`, or custom output instead.",
      "",
      "Stacktrace:",
      " [1] print(::IJulia.IJuliaStdio{Base.PipeEndpoint}, ::Nothing) at ./show.jl:566",
      " [2] print(::Nothing) at ./coreio.jl:3",
      " [3] coucou(::String, ::Nothing) at ./In[7]:3",
      " [4] coucou(::String) at ./In[7]:2",
      " [5] top-level scope at In[7]:5"
     ]
    }
   ],
   "source": [
    "function coucou(a, phi = nothing)\n",
    "    println(a)\n",
    "    print(phi)\n",
    "end\n",
    "\n",
    "\n",
    "coucou(\"abc\")"
   ]
  },
  {
   "cell_type": "code",
   "execution_count": 9,
   "metadata": {},
   "outputs": [
    {
     "data": {
      "text/plain": [
       "1×4 Array{Int64,2}:\n",
       " 1  2  3  4"
      ]
     },
     "execution_count": 9,
     "metadata": {},
     "output_type": "execute_result"
    }
   ],
   "source": [
    "a = [1 2 3 4]\n"
   ]
  },
  {
   "cell_type": "code",
   "execution_count": 11,
   "metadata": {},
   "outputs": [
    {
     "data": {
      "text/plain": [
       "1×4 Array{Int64,2}:\n",
       " -1  -2  -3  -4"
      ]
     },
     "execution_count": 11,
     "metadata": {},
     "output_type": "execute_result"
    }
   ],
   "source": [
    ".-a"
   ]
  },
  {
   "cell_type": "code",
   "execution_count": 6,
   "metadata": {},
   "outputs": [
    {
     "name": "stdout",
     "output_type": "stream",
     "text": [
      "1"
     ]
    }
   ],
   "source": [
    "for x in 1:1\n",
    "    print(x)\n",
    "end"
   ]
  },
  {
   "cell_type": "code",
   "execution_count": 10,
   "metadata": {},
   "outputs": [
    {
     "data": {
      "text/plain": [
       "2×2 Array{Float64,2}:\n",
       " 0.54518   0.760232  \n",
       " 0.940825  0.00730778"
      ]
     },
     "execution_count": 10,
     "metadata": {},
     "output_type": "execute_result"
    }
   ],
   "source": [
    "rand(2,2)"
   ]
  },
  {
   "cell_type": "code",
   "execution_count": 14,
   "metadata": {},
   "outputs": [
    {
     "data": {
      "text/plain": [
       "2×2 Array{Int64,2}:\n",
       " 1  1\n",
       " 0  1"
      ]
     },
     "execution_count": 14,
     "metadata": {},
     "output_type": "execute_result"
    }
   ],
   "source": [
    "Q = [1 1;\n",
    "     0 1]"
   ]
  },
  {
   "cell_type": "code",
   "execution_count": 28,
   "metadata": {},
   "outputs": [
    {
     "data": {
      "text/plain": [
       "1"
      ]
     },
     "execution_count": 28,
     "metadata": {},
     "output_type": "execute_result"
    }
   ],
   "source": [
    "tr = [1 2 3 ; 4 5 6 ; 7 8 9]\n",
    "\n",
    "tr[1]"
   ]
  },
  {
   "cell_type": "code",
   "execution_count": 27,
   "metadata": {},
   "outputs": [
    {
     "name": "stdout",
     "output_type": "stream",
     "text": [
      "[8 9; 30 40]"
     ]
    }
   ],
   "source": [
    "a = [10 20; 30 40]\n",
    "\n",
    "\n",
    "#println(a)\n",
    "for x in zip(tr[:,2], tr[:,3])\n",
    "    a[1,:] = collect(x)\n",
    "end\n",
    "\n",
    "print(a)\n"
   ]
  },
  {
   "cell_type": "code",
   "execution_count": 29,
   "metadata": {},
   "outputs": [
    {
     "data": {
      "text/plain": [
       "1×3 Array{Int64,2}:\n",
       " 1  2  3"
      ]
     },
     "execution_count": 29,
     "metadata": {},
     "output_type": "execute_result"
    }
   ],
   "source": [
    "x = [1 2 3]"
   ]
  },
  {
   "cell_type": "code",
   "execution_count": 31,
   "metadata": {},
   "outputs": [
    {
     "data": {
      "text/plain": [
       "1×1 Array{Int64,2}:\n",
       " 14"
      ]
     },
     "execution_count": 31,
     "metadata": {},
     "output_type": "execute_result"
    }
   ],
   "source": [
    "x*x'"
   ]
  },
  {
   "cell_type": "code",
   "execution_count": 34,
   "metadata": {},
   "outputs": [
    {
     "data": {
      "text/plain": [
       "4.5663706143591725"
      ]
     },
     "execution_count": 34,
     "metadata": {},
     "output_type": "execute_result"
    }
   ],
   "source": [
    "2*π+ -8%(2*π)"
   ]
  },
  {
   "cell_type": "code",
   "execution_count": 39,
   "metadata": {},
   "outputs": [
    {
     "data": {
      "text/plain": [
       "5.983185307179586"
      ]
     },
     "execution_count": 39,
     "metadata": {},
     "output_type": "execute_result"
    }
   ],
   "source": [
    "mod2pi.(-0.3)"
   ]
  },
  {
   "cell_type": "code",
   "execution_count": 40,
   "metadata": {},
   "outputs": [
    {
     "data": {
      "text/plain": [
       "()"
      ]
     },
     "execution_count": 40,
     "metadata": {},
     "output_type": "execute_result"
    }
   ],
   "source": [
    "a=1\n",
    "size(a)"
   ]
  },
  {
   "cell_type": "code",
   "execution_count": 41,
   "metadata": {},
   "outputs": [
    {
     "data": {
      "text/plain": [
       "1"
      ]
     },
     "execution_count": 41,
     "metadata": {},
     "output_type": "execute_result"
    }
   ],
   "source": [
    "length(a)"
   ]
  },
  {
   "cell_type": "code",
   "execution_count": 43,
   "metadata": {},
   "outputs": [
    {
     "name": "stdout",
     "output_type": "stream",
     "text": [
      "9\n",
      "8\n",
      "7\n",
      "6\n",
      "5\n",
      "4\n",
      "3\n",
      "2\n",
      "1\n",
      "0\n"
     ]
    }
   ],
   "source": [
    "n = 10\n",
    "for k in n-1:-1:0\n",
    "    println(k)\n",
    "end\n"
   ]
  },
  {
   "cell_type": "code",
   "execution_count": 46,
   "metadata": {},
   "outputs": [
    {
     "data": {
      "text/plain": [
       "2×2 Array{Int64,2}:\n",
       " 1  2\n",
       " 3  4"
      ]
     },
     "execution_count": 46,
     "metadata": {},
     "output_type": "execute_result"
    }
   ],
   "source": [
    "a = [1 2 ; 3 4]"
   ]
  },
  {
   "cell_type": "code",
   "execution_count": 47,
   "metadata": {},
   "outputs": [
    {
     "data": {
      "text/plain": [
       "2-element Array{Int64,1}:\n",
       " 1\n",
       " 2"
      ]
     },
     "execution_count": 47,
     "metadata": {},
     "output_type": "execute_result"
    }
   ],
   "source": [
    "a[1,:]"
   ]
  },
  {
   "cell_type": "code",
   "execution_count": 52,
   "metadata": {},
   "outputs": [
    {
     "name": "stdout",
     "output_type": "stream",
     "text": [
      "\u001b[32m\u001b[1m Resolving\u001b[22m\u001b[39m package versions...\n",
      "\u001b[32m\u001b[1m Installed\u001b[22m\u001b[39m TensorOperations ─ v0.7.1\n",
      "\u001b[32m\u001b[1m  Updating\u001b[22m\u001b[39m `~/.julia/environments/v1.0/Project.toml`\n",
      " \u001b[90m [6aa20fa7]\u001b[39m\u001b[92m + TensorOperations v0.7.1\u001b[39m\n",
      "\u001b[32m\u001b[1m  Updating\u001b[22m\u001b[39m `~/.julia/environments/v1.0/Manifest.toml`\n",
      " \u001b[90m [6aa20fa7]\u001b[39m\u001b[92m + TensorOperations v0.7.1\u001b[39m\n"
     ]
    }
   ],
   "source": [
    "using Pkg\n",
    "Pkg.add(\"TensorOperations\")\n"
   ]
  },
  {
   "cell_type": "code",
   "execution_count": 51,
   "metadata": {},
   "outputs": [
    {
     "data": {
      "text/plain": [
       "10×10 Array{Complex,2}:\n",
       " 0+0im  0+0im  0+0im  0+0im  0+0im  0+0im  0+0im  0+0im  0+0im  0+0im\n",
       " 0+0im  0+0im  0+0im  0+0im  0+0im  0+0im  0+0im  0+0im  0+0im  0+0im\n",
       " 0+0im  0+0im  0+0im  0+0im  0+0im  0+0im  0+0im  0+0im  0+0im  0+0im\n",
       " 0+0im  0+0im  0+0im  0+0im  0+0im  0+0im  0+0im  0+0im  0+0im  0+0im\n",
       " 0+0im  0+0im  0+0im  0+0im  0+0im  0+0im  0+0im  0+0im  0+0im  0+0im\n",
       " 0+0im  0+0im  0+0im  0+0im  0+0im  0+0im  0+0im  0+0im  0+0im  0+0im\n",
       " 0+0im  0+0im  0+0im  0+0im  0+0im  0+0im  0+0im  0+0im  0+0im  0+0im\n",
       " 0+0im  0+0im  0+0im  0+0im  0+0im  0+0im  0+0im  0+0im  0+0im  0+0im\n",
       " 0+0im  0+0im  0+0im  0+0im  0+0im  0+0im  0+0im  0+0im  0+0im  0+0im\n",
       " 0+0im  0+0im  0+0im  0+0im  0+0im  0+0im  0+0im  0+0im  0+0im  0+0im"
      ]
     },
     "execution_count": 51,
     "metadata": {},
     "output_type": "execute_result"
    }
   ],
   "source": [
    "Mat_theta_end = zeros(Complex, 10,10)"
   ]
  },
  {
   "cell_type": "code",
   "execution_count": 2,
   "metadata": {},
   "outputs": [
    {
     "data": {
      "text/plain": [
       "20-element Array{Int64,1}:\n",
       "  1\n",
       "  1\n",
       "  2\n",
       "  2\n",
       "  3\n",
       "  3\n",
       "  4\n",
       "  4\n",
       "  5\n",
       "  5\n",
       "  6\n",
       "  6\n",
       "  7\n",
       "  7\n",
       "  8\n",
       "  8\n",
       "  9\n",
       "  9\n",
       " 10\n",
       " 10"
      ]
     },
     "execution_count": 2,
     "metadata": {},
     "output_type": "execute_result"
    }
   ],
   "source": [
    "[a for a in 1:10 for b in 1:2]"
   ]
  },
  {
   "cell_type": "code",
   "execution_count": 3,
   "metadata": {},
   "outputs": [
    {
     "data": {
      "text/plain": [
       "2×3 Array{Int64,2}:\n",
       " 1  2  3\n",
       " 4  5  6"
      ]
     },
     "execution_count": 3,
     "metadata": {},
     "output_type": "execute_result"
    }
   ],
   "source": [
    "a = [1 2 3 ; 4 5 6]"
   ]
  },
  {
   "cell_type": "code",
   "execution_count": 12,
   "metadata": {},
   "outputs": [
    {
     "data": {
      "text/plain": [
       "1×6 Array{Int64,2}:\n",
       " 1  2  3  4  5  6"
      ]
     },
     "execution_count": 12,
     "metadata": {},
     "output_type": "execute_result"
    }
   ],
   "source": [
    "[x for x in hcat(a'...)]"
   ]
  },
  {
   "cell_type": "code",
   "execution_count": 1,
   "metadata": {},
   "outputs": [],
   "source": [
    "using FFTW\n"
   ]
  },
  {
   "cell_type": "code",
   "execution_count": 10,
   "metadata": {},
   "outputs": [
    {
     "data": {
      "text/plain": [
       "1×3 Array{Float64,2}:\n",
       " 0.1309  0.0  1.0"
      ]
     },
     "execution_count": 10,
     "metadata": {},
     "output_type": "execute_result"
    }
   ],
   "source": [
    "\n",
    "resolution = 3\n",
    "dt = 0.5\n",
    "phi_f = 2*π/24\n",
    "theta_f = 2*π/24\n",
    "F_theta = zeros(resolution, resolution) #(rand( resolution,resolution).-0.5).*0.001\n",
    "F_phi = zeros(resolution, resolution)  #(rand( resolution,resolution).-0.5).*0.001\n",
    "\n",
    "\n",
    "\n",
    "FT_θ = fft(F_theta) \n",
    "FT_ϕ = fft(F_phi)\n",
    "    \n",
    "\n",
    "\n",
    "### TEST BEFORE\n",
    "a1 = [theta_f*dt 1 0]\n",
    "a2 =  reshape(FT_θ', size(FT_θ,1)* size(FT_θ,2) ) .* dt\n",
    "#a = hcat(a1,a2)\n",
    "\n",
    "b1 =  [phi_f*dt 0 1]\n",
    "#b2 = [ par*dt for par in FT_ϕ'... ]\n",
    "#b = hcat(b1, b2)\n",
    "#A = [ a ; n ]\n",
    "#x = [1., 1.]\n",
    "#x_dt = A*f_hat(x, n_harm)\n",
    "#println(\"BEFORE \", real.(x_dt))\n",
    "\n"
   ]
  },
  {
   "cell_type": "code",
   "execution_count": 12,
   "metadata": {},
   "outputs": [
    {
     "data": {
      "text/plain": [
       "1×8 Array{Int64,2}:\n",
       " 1  2  3  4  5  6  1  2"
      ]
     },
     "execution_count": 12,
     "metadata": {},
     "output_type": "execute_result"
    }
   ],
   "source": [
    "a = [1 2 3 ; 4 5 6]\n",
    "b = reshape(a', size(a,1)* size(a,2))'\n",
    "c = [1 2]\n",
    "d = hcat(b, c)"
   ]
  },
  {
   "cell_type": "code",
   "execution_count": 15,
   "metadata": {},
   "outputs": [
    {
     "data": {
      "text/plain": [
       "50-element Array{Float64,1}:\n",
       "  0.04                \n",
       "  0.021612092234725593\n",
       " -0.016645873461885695\n",
       " -0.03959969986401782 \n",
       " -0.026145744834544477\n",
       "  0.021612092234725593\n",
       " -0.016645873461885695\n",
       " -0.03959969986401782 \n",
       " -0.026145744834544477\n",
       "  0.01134648741852905 \n",
       " -0.016645873461885695\n",
       " -0.03959969986401782 \n",
       " -0.026145744834544477\n",
       "  ⋮                   \n",
       "  0.03835697098652554 \n",
       "  0.011176619927957035\n",
       " -0.005644800322394688\n",
       "  0.03027209981231713 \n",
       "  0.03835697098652554 \n",
       "  0.011176619927957035\n",
       " -0.026279463948751563\n",
       "  0.03027209981231713 \n",
       "  0.03835697098652554 \n",
       "  0.011176619927957035\n",
       " -0.026279463948751563\n",
       " -0.039574329864935275"
      ]
     },
     "execution_count": 15,
     "metadata": {},
     "output_type": "execute_result"
    }
   ],
   "source": [
    "n_harm = 5\n",
    "x = [1, 1]\n",
    "vect_cos = (1/n_harm^2).*[ cos( k*x[1] + l*x[2] ) for k in 0:n_harm-1 for l in 0:n_harm-1 ]\n",
    "vect_sin =  (1/n_harm^2).*[ -sin( k*x[1] + l*x[2] ) for k in 0:n_harm-1 for l in 0:n_harm-1 ]\n",
    "vcat(vect_cos, vect_sin)"
   ]
  },
  {
   "cell_type": "code",
   "execution_count": 132,
   "metadata": {},
   "outputs": [
    {
     "name": "stdout",
     "output_type": "stream",
     "text": [
      "0 0 -0.08313344666391419 + 0.0im\n",
      "0 1 -0.08874271853666331 - 1.264804606046378im\n",
      "0 2 0.12097831855790943 + 0.3895326254972023im\n",
      "0 3 0.07097636045667662 + 0.0im\n",
      "0 4 0.12097831855790943 - 0.3895326254972023im\n",
      "0 5 -0.08874271853666331 + 1.264804606046378im\n",
      "1 0 0.04862967536408043 + 1.372158558033166im\n",
      "1 1 -0.07552493270395519 - 0.4653652209172512im\n",
      "1 2 -0.0919305329218659 - 0.374141785169705im\n",
      "1 3 0.01473724510902185 + 0.20960755639981538im\n",
      "1 4 0.07952894224275037 - 0.44917361250225274im\n",
      "1 5 0.030934835498037536 - 0.24875136865284642im\n",
      "2 0 -0.0691655441145698 + 0.2505439618915756im\n",
      "2 1 0.16481404633306995 + 0.43299208149731305im\n",
      "2 2 -0.06877552251648389 - 0.23074710175629698im\n",
      "2 3 -0.04443545186107535 + 0.045691579420009065im\n",
      "2 4 0.03252835686710346 + 0.09744739172862277im\n",
      "2 5 -0.039463349895444935 - 0.5829563060084723im\n",
      "3 0 -0.20804039532651308 + 0.0im\n",
      "3 1 0.07289512913533543 + 0.20634966889514322im\n",
      "3 2 0.04609093482211153 - 0.08008633617745807im\n",
      "3 3 -0.0460013831608299 + 0.0im\n",
      "3 4 0.04609093482211153 + 0.08008633617745807im\n",
      "3 5 0.07289512913533543 - 0.20634966889514322im\n",
      "4 0 -0.0691655441145698 - 0.2505439618915756im\n",
      "4 1 -0.039463349895444935 + 0.5829563060084723im\n",
      "4 2 0.03252835686710346 - 0.09744739172862277im\n",
      "4 3 -0.04443545186107535 - 0.045691579420009065im\n",
      "4 4 -0.06877552251648389 + 0.23074710175629698im\n",
      "4 5 0.16481404633306995 - 0.43299208149731305im\n",
      "5 0 0.04862967536408043 - 1.372158558033166im\n",
      "5 1 0.030934835498037536 + 0.24875136865284642im\n",
      "5 2 0.07952894224275037 + 0.44917361250225274im\n",
      "5 3 0.01473724510902185 - 0.20960755639981538im\n",
      "5 4 -0.0919305329218659 + 0.374141785169705im\n",
      "5 5 -0.07552493270395519 + 0.4653652209172512im\n"
     ]
    }
   ],
   "source": [
    "using FFTW\n",
    "using Distributions\n",
    "using PyCall\n",
    "using PyPlot\n",
    "@pyimport matplotlib.pyplot as p\n",
    "p.style[:use](\"seaborn-whitegrid\")\n",
    "\n",
    "#build coupling from Gaussian\n",
    "function build_F_from_2D_gaussian(l_v_mu, l_mat_sigma, l_amp, v_domain)\n",
    "    flat_v_res = zeros( size(v_domain,1)*size(v_domain,1))\n",
    "    mat_domain =  [ [theta, phi] for theta in v_domain, phi in v_domain ] \n",
    "    flat_mat_domain = reshape(mat_domain, size(mat_domain,1)*size(mat_domain,2) )\n",
    "    flat_mat_domain = hcat(flat_mat_domain...) #flatten over last dimension\n",
    "    for (v_mu, mat_sigma, amp) in zip(l_v_mu, l_mat_sigma, l_amp)\n",
    "        flat_v_res += amp * pdf( MvNormal(  v_mu, mat_sigma), flat_mat_domain)\n",
    "        flat_v_res += amp * pdf( MvNormal( [v_mu[1]+2*π, v_mu[2]], mat_sigma), flat_mat_domain)\n",
    "        flat_v_res += amp * pdf( MvNormal( [v_mu[1], v_mu[2]+2*π], mat_sigma), flat_mat_domain)\n",
    "        flat_v_res += amp * pdf( MvNormal( [v_mu[1]+2*π, v_mu[2]+2*π], mat_sigma), flat_mat_domain)\n",
    "    end\n",
    "    return reshape(flat_v_res, (size(mat_domain,1),size(mat_domain,2)) )\n",
    "end\n",
    "\n",
    "\n",
    "#plot coupling function\n",
    "function plot_F(F; title_fig = \" \", cmap = \"bwr\", vmin = -0.3, vmax = 0.3, interpolation = \"bessel\")\n",
    "    figure()\n",
    "    imshow(permutedims(F, (2,1)), origin = \"lower\", interpolation = interpolation , cmap = cmap, vmin = vmin, vmax = vmax)\n",
    "    colorbar()\n",
    "    xlabel(\"θ\")\n",
    "    ylabel(\"ϕ\")\n",
    "    title(title_fig)\n",
    "    #show()\n",
    "end\n",
    "\n",
    "\n",
    "res_phase = 6#must be even\n",
    "domain_phase = range(0, stop=2*π, length=res_phase+1)[1:end-1]\n",
    "dt = 0.5\n",
    "\n",
    "\n",
    "###first signal\n",
    "\n",
    "#signal\n",
    "ω_θ = 0 .+ 2*cos.(domain_phase)/(-pi).+ 2*cos.(2*domain_phase)/(2*pi)\n",
    "#ω_θ = cos.(domain_phase)\n",
    "phase_at_peak_θ = argmax(ω_θ)/res_phase*2*π\n",
    "FT_ω_θ = fft(ω_θ)\n",
    "\n",
    "#coupling\n",
    "t_coor_1 = [1.5,4.5]\n",
    "mat_var_1 = [0.5 0  \n",
    "             0 0.5] \n",
    "t_coor_2 = [5,2]\n",
    "mat_var_2 =  [0.5 0  \n",
    "             0 0.5] \n",
    "l_amp = [-1,1]\n",
    "#l_amp = [0,0]\n",
    "\n",
    "F_θ = build_F_from_2D_gaussian([t_coor_1, t_coor_2], [mat_var_1, mat_var_2], l_amp, domain_phase)\n",
    "\n",
    "FT_F_θ = fft(F_θ)\n",
    "#println(FT_F_θ[3+1,0+1])\n",
    "#println(FT_F_θ[6-3+1,6-0+1])\n",
    "\n",
    "for i in 0:size(FT_F_θ,1)-1\n",
    "    for j in 0:size(FT_F_θ,2)-1\n",
    "        println(i, \" \",  j, \" \" ,FT_F_θ[i+1,j+1])\n",
    "    end\n",
    "end\n",
    "\n",
    "\n",
    "#plot_F(irfft(FT_F_θ, 2*size(FT_F_θ,1)-1), title_fig = \"Fastcoupling theta\")\n",
    "\n",
    "#display(real.(FT_F_θ))\n",
    "\n",
    "#display(imag.(FT_F_θ))\n",
    "#println(FT_F_θ[15,15])\n",
    "#println(FT_F_θ[20-15+1,20-15+1])\n"
   ]
  },
  {
   "cell_type": "code",
   "execution_count": 125,
   "metadata": {},
   "outputs": [
    {
     "data": {
      "text/plain": [
       "4×6 Array{Complex{Float64},2}:\n",
       " -0.0831334+0.0im       -0.0887427-1.2648im    …  -0.0887427+1.2648im  \n",
       "  0.0486297+1.37216im   -0.0755249-0.465365im      0.0309348-0.248751im\n",
       " -0.0691655+0.250544im    0.164814+0.432992im     -0.0394633-0.582956im\n",
       "   -0.20804+0.0im        0.0728951+0.20635im       0.0728951-0.20635im "
      ]
     },
     "execution_count": 125,
     "metadata": {},
     "output_type": "execute_result"
    }
   ],
   "source": [
    "FT_F_θ = rfft(F_θ)\n"
   ]
  },
  {
   "cell_type": "code",
   "execution_count": 81,
   "metadata": {},
   "outputs": [
    {
     "data": {
      "image/png": "[encoded data removed]",
      "text/plain": [
       "Figure(PyObject <Figure size 640x480 with 2 Axes>)"
      ]
     },
     "metadata": {},
     "output_type": "display_data"
    },
    {
     "data": {
      "text/plain": [
       "PyObject Text(0.5, 1.0, 'Fastcoupling theta')"
      ]
     },
     "execution_count": 81,
     "metadata": {},
     "output_type": "execute_result"
    }
   ],
   "source": [
    "function F(ϕ₁,ϕ₂, FT_F)\n",
    "    return 1/(size(FT_F,1)^2)*sum([(real(FT_F[k+1<=6 ? k+1 : 10-k,l+1])*cos( k*ϕ₁+l*ϕ₂) -imag( FT_F[k+1,l+1]*sin( k*ϕ₁+l*ϕ₂))) for k in 0:size(FT_F,2)-1, l in 0:size(FT_F,2)-1])\n",
    "end\n",
    "    \n",
    "F_θ = Matrix(undef, res_phase, res_phase)\n",
    "for (i_t, theta) in enumerate(domain_phase)\n",
    "    for (i_p, phi) in enumerate(domain_phase)\n",
    "        F_θ[i_t,i_p] = F(theta,phi, FT_F_θ)\n",
    "    end\n",
    "end\n",
    "        \n",
    "plot_F(F_θ, title_fig = \"Fastcoupling theta\")\n",
    "        \n",
    "#n_harm = res_phase\n",
    "#vect_cos = (1/n_harm^2).*[ cos( k*x[1] + l*x[2] ) for k in 0:n_harm-1 for l in 0:n_harm-1 ]\n",
    "#vect_sin =  (1/n_harm^2).*[ -sin( k*x[1] + l*x[2] ) for k in 0:n_harm-1 for l in 0:n_harm-1 ]\n",
    "#f_hat = vcat( [ 1, x... ], vect_cos, vect_sin )"
   ]
  },
  {
   "cell_type": "code",
   "execution_count": 70,
   "metadata": {},
   "outputs": [
    {
     "data": {
      "text/plain": [
       "4"
      ]
     },
     "execution_count": 70,
     "metadata": {},
     "output_type": "execute_result"
    }
   ],
   "source": [
    "5<6 ? 4 : 2"
   ]
  },
  {
   "cell_type": "code",
   "execution_count": 1,
   "metadata": {},
   "outputs": [
    {
     "data": {
      "text/plain": [
       "2×3 Array{Int64,2}:\n",
       " 1  2  3\n",
       " 4  5  6"
      ]
     },
     "execution_count": 1,
     "metadata": {},
     "output_type": "execute_result"
    }
   ],
   "source": [
    "a = [1 2 3 ; 4 5 6 ]"
   ]
  },
  {
   "cell_type": "code",
   "execution_count": 3,
   "metadata": {},
   "outputs": [
    {
     "data": {
      "text/plain": [
       "6-element reshape(::LinearAlgebra.Adjoint{Int64,Array{Int64,2}}, 6) with eltype Int64:\n",
       " 1\n",
       " 2\n",
       " 3\n",
       " 4\n",
       " 5\n",
       " 6"
      ]
     },
     "execution_count": 3,
     "metadata": {},
     "output_type": "execute_result"
    }
   ],
   "source": [
    "reshape(a',6)"
   ]
  },
  {
   "cell_type": "code",
   "execution_count": 9,
   "metadata": {},
   "outputs": [
    {
     "data": {
      "text/plain": [
       "-0.3141592653589793"
      ]
     },
     "execution_count": 9,
     "metadata": {},
     "output_type": "execute_result"
    }
   ],
   "source": [
    "a = -2.1*π\n",
    "b = 0\n",
    "(a-b)%(2*π)\n",
    "\n"
   ]
  },
  {
   "cell_type": "code",
   "execution_count": 16,
   "metadata": {},
   "outputs": [
    {
     "data": {
      "text/plain": [
       "-3.1415926535897927"
      ]
     },
     "execution_count": 16,
     "metadata": {},
     "output_type": "execute_result"
    }
   ],
   "source": [
    "angle(exp(-1im*3*π))"
   ]
  },
  {
   "cell_type": "code",
   "execution_count": 2,
   "metadata": {},
   "outputs": [
    {
     "data": {
      "text/plain": [
       "20-element Array{Float64,1}:\n",
       " 0.1924475909583967  \n",
       " 0.12932689082397464 \n",
       " 0.5028471227166578  \n",
       " 0.8910998975164597  \n",
       " 0.990119453082468   \n",
       " 0.4113474927443126  \n",
       " 0.872038398928368   \n",
       " 0.1014350112297151  \n",
       " 0.6913557528081853  \n",
       " 0.06047416762457636 \n",
       " 0.22548870618497285 \n",
       " 0.4630949451684092  \n",
       " 0.7590061303754374  \n",
       " 0.3479385662417285  \n",
       " 0.024639889276045324\n",
       " 0.4581007720954837  \n",
       " 0.027490602916895313\n",
       " 0.1740010231833531  \n",
       " 0.9292307495677932  \n",
       " 0.2525350936275028  "
      ]
     },
     "execution_count": 2,
     "metadata": {},
     "output_type": "execute_result"
    }
   ],
   "source": [
    "rand(20)"
   ]
  },
  {
   "cell_type": "code",
   "execution_count": 4,
   "metadata": {},
   "outputs": [
    {
     "data": {
      "text/plain": [
       "0.28513383426865957"
      ]
     },
     "execution_count": 4,
     "metadata": {},
     "output_type": "execute_result"
    }
   ],
   "source": [
    "using Interpolations\n",
    "A = rand(20)\n",
    "A_x = collect(1.0:2.0:40.0)\n",
    "knots = (A_x,)\n",
    "itp = interpolate(knots, A, Gridded(Linear()))\n",
    "itp(2.0)\n",
    "\n",
    "\n",
    "\n"
   ]
  },
  {
   "cell_type": "code",
   "execution_count": null,
   "metadata": {},
   "outputs": [],
   "source": [
    "phase.fast_ω = interpolate( (collect(range(-2*π, stop=4*π, length=length(ω_temp)+1)[1:end-1], ω_temp, Gridded(Linear()))\n",
    "\n",
    "\n"
   ]
  },
  {
   "cell_type": "code",
   "execution_count": 3,
   "metadata": {},
   "outputs": [
    {
     "data": {
      "text/plain": [
       "3-element Array{Int64,1}:\n",
       " 75\n",
       " 45\n",
       " 46"
      ]
     },
     "execution_count": 3,
     "metadata": {},
     "output_type": "execute_result"
    }
   ],
   "source": [
    "a= Dict()\n",
    "a[\"test\"] = [45,22]\n",
    "a[\"test2\"] = [75,45,46]"
   ]
  },
  {
   "cell_type": "code",
   "execution_count": 6,
   "metadata": {},
   "outputs": [
    {
     "data": {
      "text/plain": [
       "4"
      ]
     },
     "execution_count": 6,
     "metadata": {},
     "output_type": "execute_result"
    }
   ],
   "source": [
    "a[[\"test\",2]] = 4"
   ]
  },
  {
   "cell_type": "code",
   "execution_count": 7,
   "metadata": {},
   "outputs": [
    {
     "data": {
      "text/plain": [
       "Dict{Any,Any} with 3 entries:\n",
       "  \"test2\"        => [75, 45, 46]\n",
       "  \"test\"         => [45, 22]\n",
       "  Any[\"test\", 2] => 4"
      ]
     },
     "execution_count": 7,
     "metadata": {},
     "output_type": "execute_result"
    }
   ],
   "source": [
    "a"
   ]
  },
  {
   "cell_type": "code",
   "execution_count": 5,
   "metadata": {},
   "outputs": [
    {
     "name": "stdout",
     "output_type": "stream",
     "text": [
      "\u001b[32m\u001b[1m Resolving\u001b[22m\u001b[39m package versions...\n",
      "\u001b[32m\u001b[1m  Updating\u001b[22m\u001b[39m `~/.julia/environments/v1.0/Project.toml`\n",
      "\u001b[90m [no changes]\u001b[39m\n",
      "\u001b[32m\u001b[1m  Updating\u001b[22m\u001b[39m `~/.julia/environments/v1.0/Manifest.toml`\n",
      "\u001b[90m [no changes]\u001b[39m\n"
     ]
    }
   ],
   "source": [
    "using Pkg\n",
    "Pkg.add(\"Wavelets\")\n",
    "using Wavelets"
   ]
  },
  {
   "cell_type": "code",
   "execution_count": 6,
   "metadata": {},
   "outputs": [
    {
     "name": "stdout",
     "output_type": "stream",
     "text": [
      "search: \u001b[0m\u001b[1md\u001b[22m\u001b[0m\u001b[1me\u001b[22m\u001b[0m\u001b[1mn\u001b[22m\u001b[0m\u001b[1mo\u001b[22m\u001b[0m\u001b[1mi\u001b[22m\u001b[0m\u001b[1ms\u001b[22m\u001b[0m\u001b[1me\u001b[22m \u001b[0m\u001b[1mD\u001b[22mim\u001b[0m\u001b[1me\u001b[22m\u001b[0m\u001b[1mn\u001b[22msi\u001b[0m\u001b[1mo\u001b[22mnM\u001b[0m\u001b[1mi\u001b[22m\u001b[0m\u001b[1ms\u001b[22mmatch \u001b[0m\u001b[1md\u001b[22m\u001b[0m\u001b[1me\u001b[22m\u001b[0m\u001b[1mn\u001b[22m\u001b[0m\u001b[1mo\u001b[22mm\u001b[0m\u001b[1mi\u001b[22mnator\n",
      "\n"
     ]
    },
    {
     "data": {
      "text/latex": [
       "No documentation found.\n",
       "\n",
       "\\texttt{Wavelets.Threshold.denoise} is a \\texttt{Function}.\n",
       "\n",
       "\\begin{verbatim}\n",
       "# 2 methods for generic function \"denoise\":\n",
       "[1] denoise(x::AbstractArray) in Wavelets.Threshold at /Users/cdroin/.julia/packages/Wavelets/OWF1e/src/mod/Threshold.jl:184\n",
       "[2] denoise(x::AbstractArray, wt::Union{Nothing, DiscreteWavelet}; L, dnt, estnoise, TI, nspin) in Wavelets.Threshold at /Users/cdroin/.julia/packages/Wavelets/OWF1e/src/mod/Threshold.jl:184\n",
       "\\end{verbatim}\n"
      ],
      "text/markdown": [
       "No documentation found.\n",
       "\n",
       "`Wavelets.Threshold.denoise` is a `Function`.\n",
       "\n",
       "```\n",
       "# 2 methods for generic function \"denoise\":\n",
       "[1] denoise(x::AbstractArray) in Wavelets.Threshold at /Users/cdroin/.julia/packages/Wavelets/OWF1e/src/mod/Threshold.jl:184\n",
       "[2] denoise(x::AbstractArray, wt::Union{Nothing, DiscreteWavelet}; L, dnt, estnoise, TI, nspin) in Wavelets.Threshold at /Users/cdroin/.julia/packages/Wavelets/OWF1e/src/mod/Threshold.jl:184\n",
       "```\n"
      ],
      "text/plain": [
       "  No documentation found.\n",
       "\n",
       "  \u001b[36mWavelets.Threshold.denoise\u001b[39m is a \u001b[36mFunction\u001b[39m.\n",
       "\n",
       "\u001b[36m  # 2 methods for generic function \"denoise\":\u001b[39m\n",
       "\u001b[36m  [1] denoise(x::AbstractArray) in Wavelets.Threshold at /Users/cdroin/.julia/packages/Wavelets/OWF1e/src/mod/Threshold.jl:184\u001b[39m\n",
       "\u001b[36m  [2] denoise(x::AbstractArray, wt::Union{Nothing, DiscreteWavelet}; L, dnt, estnoise, TI, nspin) in Wavelets.Threshold at /Users/cdroin/.julia/packages/Wavelets/OWF1e/src/mod/Threshold.jl:184\u001b[39m"
      ]
     },
     "execution_count": 6,
     "metadata": {},
     "output_type": "execute_result"
    }
   ],
   "source": [
    "?denoise"
   ]
  },
  {
   "cell_type": "code",
   "execution_count": 8,
   "metadata": {},
   "outputs": [
    {
     "data": {
      "text/plain": [
       "2-element Array{Int64,1}:\n",
       " 1\n",
       " 4"
      ]
     },
     "execution_count": 8,
     "metadata": {},
     "output_type": "execute_result"
    }
   ],
   "source": [
    "a = [1,2,3,4]\n",
    "a[[1,4]]"
   ]
  },
  {
   "cell_type": "code",
   "execution_count": 3,
   "metadata": {},
   "outputs": [
    {
     "name": "stdout",
     "output_type": "stream",
     "text": [
      "\u001b[32m\u001b[1m Resolving\u001b[22m\u001b[39m package versions...\n",
      "\u001b[32m\u001b[1m Installed\u001b[22m\u001b[39m Hilbert ─ v0.1.0\n",
      "\u001b[32m\u001b[1m  Updating\u001b[22m\u001b[39m `~/.julia/environments/v1.0/Project.toml`\n",
      " \u001b[90m [5befdd30]\u001b[39m\u001b[92m + Hilbert v0.1.0\u001b[39m\n",
      "\u001b[32m\u001b[1m  Updating\u001b[22m\u001b[39m `~/.julia/environments/v1.0/Manifest.toml`\n",
      " \u001b[90m [5befdd30]\u001b[39m\u001b[92m + Hilbert v0.1.0\u001b[39m\n"
     ]
    },
    {
     "name": "stderr",
     "output_type": "stream",
     "text": [
      "┌ Info: Precompiling Hilbert [5befdd30-5572-5129-8422-0c92d957d47a]\n",
      "└ @ Base loading.jl:1189\n"
     ]
    }
   ],
   "source": [
    "using Pkg\n",
    "Pkg.add(\"Hilbert\")\n",
    "using Hilbert"
   ]
  },
  {
   "cell_type": "code",
   "execution_count": 26,
   "metadata": {},
   "outputs": [
    {
     "data": {
      "text/plain": [
       "5-element Array{Float64,1}:\n",
       " -2.153234405240155 \n",
       " -0.8458388407818309\n",
       "  0.7798789115996132\n",
       "  0.5029948169240831\n",
       "  0.9655494212402279"
      ]
     },
     "execution_count": 26,
     "metadata": {},
     "output_type": "execute_result"
    }
   ],
   "source": [
    "using TensorOperations\n",
    "B=randn(5)\n",
    "C=randn(5,5)\n",
    "@tensor begin\n",
    "    D[b] := B[a]*C[a,b] \n",
    "end"
   ]
  },
  {
   "cell_type": "code",
   "execution_count": 35,
   "metadata": {},
   "outputs": [
    {
     "name": "stdout",
     "output_type": "stream",
     "text": [
      "\u001b[32m\u001b[1m Resolving\u001b[22m\u001b[39m package versions...\n",
      "\u001b[32m\u001b[1m  Updating\u001b[22m\u001b[39m `~/.julia/environments/v1.0/Project.toml`\n",
      "\u001b[90m [no changes]\u001b[39m\n",
      "\u001b[32m\u001b[1m  Updating\u001b[22m\u001b[39m `~/.julia/environments/v1.0/Manifest.toml`\n",
      "\u001b[90m [no changes]\u001b[39m\n"
     ]
    }
   ],
   "source": [
    "using Pkg\n",
    "Pkg.add(\"TensorOperations\")"
   ]
  },
  {
   "cell_type": "code",
   "execution_count": 34,
   "metadata": {},
   "outputs": [
    {
     "ename": "MethodError",
     "evalue": "MethodError: no method matching Array{Float64,N} where N(::Int64, ::Int64, ::Int64)\nClosest candidates are:\n  Array{Float64,N} where N(!Matched::UndefInitializer, ::Int64, ::Int64) where T at boot.jl:409\n  Array{Float64,N} where N(!Matched::UndefInitializer, ::Int64, ::Int64, !Matched::Int64) where T at boot.jl:410\n  Array{Float64,N} where N(!Matched::UndefInitializer, ::Integer, ::Integer) where T at sysimg.jl:147\n  ...",
     "output_type": "error",
     "traceback": [
      "MethodError: no method matching Array{Float64,N} where N(::Int64, ::Int64, ::Int64)\nClosest candidates are:\n  Array{Float64,N} where N(!Matched::UndefInitializer, ::Int64, ::Int64) where T at boot.jl:409\n  Array{Float64,N} where N(!Matched::UndefInitializer, ::Int64, ::Int64, !Matched::Int64) where T at boot.jl:410\n  Array{Float64,N} where N(!Matched::UndefInitializer, ::Integer, ::Integer) where T at sysimg.jl:147\n  ...",
      "",
      "Stacktrace:",
      " [1] macro expansion at /Users/cdroin/.julia/packages/Einsum/ZdFPw/src/Einsum.jl:159 [inlined]",
      " [2] top-level scope at ./In[34]:6"
     ]
    }
   ],
   "source": [
    "using Einsum\n",
    "\n",
    "X = randn(5, 2)\n",
    "Y = randn(6, 2)\n",
    "Z = randn(7, 2)\n",
    "\n",
    "# Store the result in A, overwriting as necessary:\n",
    "@einsum A[i, j, k] := X[i, r] * Y[j, r] * Z[k, r]"
   ]
  },
  {
   "cell_type": "code",
   "execution_count": 32,
   "metadata": {},
   "outputs": [
    {
     "data": {
      "text/plain": [
       "1×2 Array{Float64,2}:\n",
       " 1.0  1.0"
      ]
     },
     "execution_count": 32,
     "metadata": {},
     "output_type": "execute_result"
    }
   ],
   "source": [
    "ones(1,2)"
   ]
  },
  {
   "cell_type": "code",
   "execution_count": 1,
   "metadata": {},
   "outputs": [
    {
     "data": {
      "text/plain": [
       "NaN"
      ]
     },
     "execution_count": 1,
     "metadata": {},
     "output_type": "execute_result"
    }
   ],
   "source": [
    "a = NaN"
   ]
  },
  {
   "cell_type": "code",
   "execution_count": 4,
   "metadata": {},
   "outputs": [
    {
     "data": {
      "text/plain": [
       "false"
      ]
     },
     "execution_count": 4,
     "metadata": {},
     "output_type": "execute_result"
    }
   ],
   "source": [
    "a>0"
   ]
  },
  {
   "cell_type": "code",
   "execution_count": null,
   "metadata": {},
   "outputs": [],
   "source": []
  }
 ],
 "metadata": {
  "kernelspec": {
   "display_name": "Julia 1.0.1",
   "language": "julia",
   "name": "julia-1.0"
  },
  "language_info": {
   "file_extension": ".jl",
   "mimetype": "application/julia",
   "name": "julia",
   "version": "1.0.1"
  }
 },
 "nbformat": 4,
 "nbformat_minor": 2
}
