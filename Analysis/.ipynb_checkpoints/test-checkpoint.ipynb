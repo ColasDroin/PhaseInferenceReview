{
 "cells": [
  {
   "cell_type": "code",
   "execution_count": 2,
   "metadata": {},
   "outputs": [
    {
     "name": "stdout",
     "output_type": "stream",
     "text": [
      "Array{Float64,2}\n",
      "  0.328910 seconds (4.01 M allocations: 183.778 MiB, 5.13% gc time)\n",
      "Array{Float64,2}\n",
      "  0.084109 seconds (1.05 M allocations: 124.607 MiB, 5.64% gc time)\n",
      "Array{Float64,2}\n",
      "  0.071744 seconds (1.02 M allocations: 123.243 MiB, 6.83% gc time)\n"
     ]
    }
   ],
   "source": [
    "mutable struct Foo0\n",
    "    a\n",
    "end\n",
    "\"\"\"\n",
    "mutable struct Foo1\n",
    "    a::Float64\n",
    "end\n",
    "\n",
    "\n",
    "function f(foo)\n",
    "    println(typeof(foo.a))\n",
    "    for i in 1:1_000_000\n",
    "        tmp = i + foo.a\n",
    "    end\n",
    "end\n",
    "\n",
    "f0 = Foo0(1.0)\n",
    "@time f(f0)\n",
    "\n",
    "f1 = Foo1(1.0)\n",
    "@time f(f1)\n",
    "\n",
    "\"\"\"\n",
    "mutable struct Foo2\n",
    "    a::Array{Float64}\n",
    "end\n",
    "\n",
    "mutable struct Foo3\n",
    "    a::Array{Float64,2}\n",
    "    b\n",
    "    c\n",
    "end\n",
    "\n",
    "function ff(foo)\n",
    "    println(typeof(foo.a))\n",
    "    for i in 1:1_000_000\n",
    "        tmp = i .+ foo.a\n",
    "    end\n",
    "end\n",
    "\n",
    "\n",
    "f0_bis = Foo0([1.0 1.0 ; 1.0 1.0 ; 1.0 1.0])\n",
    "@time ff(f0_bis)\n",
    "\n",
    "f2 = Foo3([1.0 1.0 ; 1.0 1.0 ; 1.0 1.0], cos, cos)\n",
    "@time ff(f2)\n",
    "\n",
    "\n",
    "a = [1.0 1.0 ; 1.0 1.0 ; 1.0 1.0]\n",
    "function fff(a)\n",
    "    println(typeof(a))\n",
    "    for i in 1:1_000_000\n",
    "        tmp = i .+a\n",
    "    end\n",
    "end\n",
    "@time fff(a)\n",
    "\n"
   ]
  },
  {
   "cell_type": "code",
   "execution_count": 22,
   "metadata": {},
   "outputs": [
    {
     "name": "stdout",
     "output_type": "stream",
     "text": [
      "Complex{Float64}"
     ]
    },
    {
     "data": {
      "text/plain": [
       "6×7 Array{Float64,2}:\n",
       " 0.0  0.0  0.0  0.0  0.0  0.0  0.0\n",
       " 0.0  0.0  0.0  0.0  0.0  0.0  0.0\n",
       " 0.0  0.0  0.0  0.0  0.0  0.0  0.0\n",
       " 0.0  0.0  0.0  0.0  0.0  0.0  0.0\n",
       " 0.0  0.0  0.0  0.0  0.0  0.0  0.0\n",
       " 0.0  0.0  0.0  0.0  0.0  0.0  0.0"
      ]
     },
     "execution_count": 22,
     "metadata": {},
     "output_type": "execute_result"
    }
   ],
   "source": [
    "print(typeof(3.0 * exp(4.0im)))\n",
    "zeros((6,7))\n",
    "\n",
    "\n"
   ]
  },
  {
   "cell_type": "code",
   "execution_count": 6,
   "metadata": {},
   "outputs": [
    {
     "ename": "ErrorException",
     "evalue": "type Array has no field shape",
     "output_type": "error",
     "traceback": [
      "type Array has no field shape",
      "",
      "Stacktrace:",
      " [1] getproperty(::Any, ::Symbol) at ./sysimg.jl:18",
      " [2] top-level scope at In[6]:2"
     ]
    }
   ],
   "source": [
    "A = [1 1 ; 22 2]\n",
    "A.shape()"
   ]
  },
  {
   "cell_type": "code",
   "execution_count": 17,
   "metadata": {},
   "outputs": [
    {
     "data": {
      "text/latex": [
       "$1 + \\alpha^2$"
      ],
      "text/plain": [
       "L\"$1 + \\alpha^2$\""
      ]
     },
     "execution_count": 17,
     "metadata": {},
     "output_type": "execute_result"
    }
   ],
   "source": [
    "for t_coor, mat_var, amp in zip(mat_coor, arr_mat_var, arr_amp):"
   ]
  },
  {
   "cell_type": "code",
   "execution_count": 25,
   "metadata": {},
   "outputs": [
    {
     "data": {
      "text/plain": [
       "2-element Array{Array{Int64,N} where N,1}:\n",
       " [1 2 3]  \n",
       " [1, 2, 4]"
      ]
     },
     "execution_count": 25,
     "metadata": {},
     "output_type": "execute_result"
    }
   ],
   "source": [
    "x =[[1 2 3], [1, 2, 4]]"
   ]
  },
  {
   "cell_type": "code",
   "execution_count": 29,
   "metadata": {},
   "outputs": [
    {
     "data": {
      "text/plain": [
       "2×3 Array{Int64,2}:\n",
       " 1  2  3\n",
       " 1  2  4"
      ]
     },
     "execution_count": 29,
     "metadata": {},
     "output_type": "execute_result"
    }
   ],
   "source": [
    "x = [1 2 3 ; 1 2 4]\n"
   ]
  },
  {
   "cell_type": "code",
   "execution_count": 36,
   "metadata": {},
   "outputs": [
    {
     "data": {
      "text/plain": [
       "6-element Array{Int64,1}:\n",
       " 1\n",
       " 1\n",
       " 2\n",
       " 2\n",
       " 3\n",
       " 4"
      ]
     },
     "execution_count": 36,
     "metadata": {},
     "output_type": "execute_result"
    }
   ],
   "source": [
    "[i for i in x[:]]"
   ]
  },
  {
   "cell_type": "code",
   "execution_count": 93,
   "metadata": {},
   "outputs": [
    {
     "data": {
      "text/plain": [
       "4-element Array{Float64,1}:\n",
       " 0.31830988618379064   \n",
       " 4.847853119120911e-9  \n",
       " 1.7125664442439332e-32\n",
       " 1.4032791063557536e-71"
      ]
     },
     "execution_count": 93,
     "metadata": {},
     "output_type": "execute_result"
    }
   ],
   "source": [
    "using Distributions\n",
    "mu = [1., 2.]\n",
    "sigma = [ 0.5 0\n",
    "          0.  0.5]\n",
    "d = MvNormal(mu, sigma)\n",
    "\n",
    "x1 = [1 2 \n",
    "     4 5 \n",
    "     7 8 \n",
    "     10 11]'\n",
    "\n",
    "x2 = [1 4 \n",
    "     1 5 \n",
    "     4 8 \n",
    "     0 11]'\n",
    "\n",
    "pdf(d, x1)"
   ]
  },
  {
   "cell_type": "code",
   "execution_count": 41,
   "metadata": {},
   "outputs": [
    {
     "data": {
      "text/plain": [
       "2×2 Array{Float64,2}:\n",
       " 0.5  0.0\n",
       " 0.5  0.0"
      ]
     },
     "execution_count": 41,
     "metadata": {},
     "output_type": "execute_result"
    }
   ],
   "source": [
    "sigma = [ 0.5 0\n",
    "          0.5  0]"
   ]
  },
  {
   "cell_type": "code",
   "execution_count": 67,
   "metadata": {},
   "outputs": [
    {
     "name": "stdout",
     "output_type": "stream",
     "text": [
      "1\n",
      "4\n",
      "7\n",
      "10\n",
      "2\n",
      "5\n",
      "8\n",
      "11\n"
     ]
    }
   ],
   "source": [
    "x1 = [1 2 \n",
    "     4 5 \n",
    "     7 8 \n",
    "     10 11]\n",
    "\n",
    "x2 = [1 4 \n",
    "     1 5 \n",
    "     4 8 \n",
    "     0 11]\n",
    "\n",
    "for a in x1\n",
    "    println(a)\n",
    "end"
   ]
  },
  {
   "cell_type": "code",
   "execution_count": 55,
   "metadata": {},
   "outputs": [
    {
     "data": {
      "text/plain": [
       "3×4 LinearAlgebra.Adjoint{Int64,Array{Int64,2}}:\n",
       " 1  4  7  10\n",
       " 2  5  8  11\n",
       " 3  6  9  12"
      ]
     },
     "execution_count": 55,
     "metadata": {},
     "output_type": "execute_result"
    }
   ],
   "source": []
  },
  {
   "cell_type": "code",
   "execution_count": 50,
   "metadata": {},
   "outputs": [
    {
     "data": {
      "text/plain": [
       "2×2 Array{Float64,2}:\n",
       " 0.5  0.0\n",
       " 0.0  0.5"
      ]
     },
     "execution_count": 50,
     "metadata": {},
     "output_type": "execute_result"
    }
   ],
   "source": [
    "sigma = [ 0.5 0\n",
    "          0.  0.5]"
   ]
  },
  {
   "cell_type": "code",
   "execution_count": 91,
   "metadata": {},
   "outputs": [
    {
     "data": {
      "text/plain": [
       "10×10 Array{Tuple{Float64,Float64},2}:\n",
       " (0.0, 0.0)      (0.0, 1.11111)      …  (0.0, 8.88889)      (0.0, 10.0)    \n",
       " (1.11111, 0.0)  (1.11111, 1.11111)     (1.11111, 8.88889)  (1.11111, 10.0)\n",
       " (2.22222, 0.0)  (2.22222, 1.11111)     (2.22222, 8.88889)  (2.22222, 10.0)\n",
       " (3.33333, 0.0)  (3.33333, 1.11111)     (3.33333, 8.88889)  (3.33333, 10.0)\n",
       " (4.44444, 0.0)  (4.44444, 1.11111)     (4.44444, 8.88889)  (4.44444, 10.0)\n",
       " (5.55556, 0.0)  (5.55556, 1.11111)  …  (5.55556, 8.88889)  (5.55556, 10.0)\n",
       " (6.66667, 0.0)  (6.66667, 1.11111)     (6.66667, 8.88889)  (6.66667, 10.0)\n",
       " (7.77778, 0.0)  (7.77778, 1.11111)     (7.77778, 8.88889)  (7.77778, 10.0)\n",
       " (8.88889, 0.0)  (8.88889, 1.11111)     (8.88889, 8.88889)  (8.88889, 10.0)\n",
       " (10.0, 0.0)     (10.0, 1.11111)        (10.0, 8.88889)     (10.0, 10.0)   "
      ]
     },
     "execution_count": 91,
     "metadata": {},
     "output_type": "execute_result"
    }
   ],
   "source": [
    "domain = LinRange(0,10,10)\n",
    "mat_domain=  [ (theta, phi) for theta in domain, phi in domain ]\n",
    "flat_mat_domain = reshape(mat_domain, size(mat_domain,1)*size(mat_domain,2) )\n",
    "mat_domain_back = reshape(flat_mat_domain, (size(mat_domain,1),size(mat_domain,2)) )\n",
    "#for t in mat_domain\n",
    "#    println(t)\n",
    "#end"
   ]
  },
  {
   "cell_type": "code",
   "execution_count": 92,
   "metadata": {},
   "outputs": [
    {
     "name": "stdout",
     "output_type": "stream",
     "text": [
      "\u001b[32m\u001b[1m Resolving\u001b[22m\u001b[39m package versions...\n",
      "\u001b[32m\u001b[1m Installed\u001b[22m\u001b[39m FFTW ───────── v0.2.4\n",
      "\u001b[32m\u001b[1m Installed\u001b[22m\u001b[39m AbstractFFTs ─ v0.3.2\n",
      "\u001b[32m\u001b[1m  Updating\u001b[22m\u001b[39m `~/.julia/environments/v1.0/Project.toml`\n",
      " \u001b[90m [7a1cc6ca]\u001b[39m\u001b[92m + FFTW v0.2.4\u001b[39m\n",
      "\u001b[32m\u001b[1m  Updating\u001b[22m\u001b[39m `~/.julia/environments/v1.0/Manifest.toml`\n",
      " \u001b[90m [621f4979]\u001b[39m\u001b[92m + AbstractFFTs v0.3.2\u001b[39m\n",
      " \u001b[90m [7a1cc6ca]\u001b[39m\u001b[92m + FFTW v0.2.4\u001b[39m\n",
      "\u001b[32m\u001b[1m  Building\u001b[22m\u001b[39m FFTW → `~/.julia/packages/FFTW/p7sLQ/deps/build.log`\n"
     ]
    }
   ],
   "source": [
    "Pkg.add(\"FFTW\")\n"
   ]
  },
  {
   "cell_type": "code",
   "execution_count": 1,
   "metadata": {},
   "outputs": [
    {
     "data": {
      "text/plain": [
       "1×3 Array{Int64,2}:\n",
       " 1  2  3"
      ]
     },
     "execution_count": 1,
     "metadata": {},
     "output_type": "execute_result"
    }
   ],
   "source": [
    "x = [1 2 3]"
   ]
  },
  {
   "cell_type": "code",
   "execution_count": 2,
   "metadata": {},
   "outputs": [
    {
     "data": {
      "text/plain": [
       "3-element Array{Int64,1}:\n",
       " 1\n",
       " 2\n",
       " 3"
      ]
     },
     "execution_count": 2,
     "metadata": {},
     "output_type": "execute_result"
    }
   ],
   "source": [
    "x = [1, 2, 3]"
   ]
  },
  {
   "cell_type": "code",
   "execution_count": 4,
   "metadata": {},
   "outputs": [
    {
     "data": {
      "text/plain": [
       "201-element Array{Float64,1}:\n",
       "   0.0\n",
       "   0.5\n",
       "   1.0\n",
       "   1.5\n",
       "   2.0\n",
       "   2.5\n",
       "   3.0\n",
       "   3.5\n",
       "   4.0\n",
       "   4.5\n",
       "   5.0\n",
       "   5.5\n",
       "   6.0\n",
       "   ⋮  \n",
       "  94.5\n",
       "  95.0\n",
       "  95.5\n",
       "  96.0\n",
       "  96.5\n",
       "  97.0\n",
       "  97.5\n",
       "  98.0\n",
       "  98.5\n",
       "  99.0\n",
       "  99.5\n",
       " 100.0"
      ]
     },
     "execution_count": 4,
     "metadata": {},
     "output_type": "execute_result"
    }
   ],
   "source": [
    "[i for i in 0:0.5:100]"
   ]
  },
  {
   "cell_type": "code",
   "execution_count": 6,
   "metadata": {},
   "outputs": [
    {
     "data": {
      "text/plain": [
       "1×2 Array{Any,2}:\n",
       " #undef  #undef"
      ]
     },
     "execution_count": 6,
     "metadata": {},
     "output_type": "execute_result"
    }
   ],
   "source": [
    "Matrix(undef,1,2)"
   ]
  },
  {
   "cell_type": "code",
   "execution_count": 8,
   "metadata": {},
   "outputs": [
    {
     "name": "stdout",
     "output_type": "stream",
     "text": [
      "search: \u001b[0m\u001b[1mp\u001b[22m\u001b[0m\u001b[1mu\u001b[22m\u001b[0m\u001b[1ms\u001b[22m\u001b[0m\u001b[1mh\u001b[22m\u001b[0m\u001b[1m!\u001b[22m \u001b[0m\u001b[1mp\u001b[22m\u001b[0m\u001b[1mu\u001b[22m\u001b[0m\u001b[1ms\u001b[22m\u001b[0m\u001b[1mh\u001b[22mfirst\u001b[0m\u001b[1m!\u001b[22m \u001b[0m\u001b[1mp\u001b[22m\u001b[0m\u001b[1mu\u001b[22m\u001b[0m\u001b[1ms\u001b[22m\u001b[0m\u001b[1mh\u001b[22mdisplay\n",
      "\n"
     ]
    },
    {
     "data": {
      "text/markdown": [
       "```\n",
       "push!(collection, items...) -> collection\n",
       "```\n",
       "\n",
       "Insert one or more `items` at the end of `collection`.\n",
       "\n",
       "# Examples\n",
       "\n",
       "```jldoctest\n",
       "julia> push!([1, 2, 3], 4, 5, 6)\n",
       "6-element Array{Int64,1}:\n",
       " 1\n",
       " 2\n",
       " 3\n",
       " 4\n",
       " 5\n",
       " 6\n",
       "```\n",
       "\n",
       "Use [`append!`](@ref) to add all the elements of another collection to `collection`. The result of the preceding example is equivalent to `append!([1, 2, 3], [4, 5, 6])`.\n"
      ],
      "text/plain": [
       "\u001b[36m  push!(collection, items...) -> collection\u001b[39m\n",
       "\n",
       "  Insert one or more \u001b[36mitems\u001b[39m at the end of \u001b[36mcollection\u001b[39m.\n",
       "\n",
       "\u001b[1m  Examples\u001b[22m\n",
       "\u001b[1m  ≡≡≡≡≡≡≡≡≡≡\u001b[22m\n",
       "\n",
       "\u001b[36m  julia> push!([1, 2, 3], 4, 5, 6)\u001b[39m\n",
       "\u001b[36m  6-element Array{Int64,1}:\u001b[39m\n",
       "\u001b[36m   1\u001b[39m\n",
       "\u001b[36m   2\u001b[39m\n",
       "\u001b[36m   3\u001b[39m\n",
       "\u001b[36m   4\u001b[39m\n",
       "\u001b[36m   5\u001b[39m\n",
       "\u001b[36m   6\u001b[39m\n",
       "\n",
       "  Use \u001b[36mappend!\u001b[39m to add all the elements of another collection to \u001b[36mcollection\u001b[39m. The\n",
       "  result of the preceding example is equivalent to \u001b[36mappend!([1, 2, 3], [4, 5,\n",
       "  6])\u001b[39m."
      ]
     },
     "execution_count": 8,
     "metadata": {},
     "output_type": "execute_result"
    }
   ],
   "source": [
    "?push!"
   ]
  },
  {
   "cell_type": "code",
   "execution_count": 7,
   "metadata": {},
   "outputs": [
    {
     "name": "stdout",
     "output_type": "stream",
     "text": [
      "abc\n"
     ]
    },
    {
     "ename": "ArgumentError",
     "evalue": "ArgumentError: `nothing` should not be printed; use `show`, `repr`, or custom output instead.",
     "output_type": "error",
     "traceback": [
      "ArgumentError: `nothing` should not be printed; use `show`, `repr`, or custom output instead.",
      "",
      "Stacktrace:",
      " [1] print(::IJulia.IJuliaStdio{Base.PipeEndpoint}, ::Nothing) at ./show.jl:566",
      " [2] print(::Nothing) at ./coreio.jl:3",
      " [3] coucou(::String, ::Nothing) at ./In[7]:3",
      " [4] coucou(::String) at ./In[7]:2",
      " [5] top-level scope at In[7]:5"
     ]
    }
   ],
   "source": [
    "function coucou(a, phi = nothing)\n",
    "    println(a)\n",
    "    print(phi)\n",
    "end\n",
    "\n",
    "\n",
    "coucou(\"abc\")"
   ]
  },
  {
   "cell_type": "code",
   "execution_count": 9,
   "metadata": {},
   "outputs": [
    {
     "data": {
      "text/plain": [
       "1×4 Array{Int64,2}:\n",
       " 1  2  3  4"
      ]
     },
     "execution_count": 9,
     "metadata": {},
     "output_type": "execute_result"
    }
   ],
   "source": [
    "a = [1 2 3 4]\n"
   ]
  },
  {
   "cell_type": "code",
   "execution_count": 11,
   "metadata": {},
   "outputs": [
    {
     "data": {
      "text/plain": [
       "1×4 Array{Int64,2}:\n",
       " -1  -2  -3  -4"
      ]
     },
     "execution_count": 11,
     "metadata": {},
     "output_type": "execute_result"
    }
   ],
   "source": [
    ".-a"
   ]
  },
  {
   "cell_type": "code",
   "execution_count": 6,
   "metadata": {},
   "outputs": [
    {
     "name": "stdout",
     "output_type": "stream",
     "text": [
      "1"
     ]
    }
   ],
   "source": [
    "for x in 1:1\n",
    "    print(x)\n",
    "end"
   ]
  },
  {
   "cell_type": "code",
   "execution_count": 10,
   "metadata": {},
   "outputs": [
    {
     "data": {
      "text/plain": [
       "2×2 Array{Float64,2}:\n",
       " 0.54518   0.760232  \n",
       " 0.940825  0.00730778"
      ]
     },
     "execution_count": 10,
     "metadata": {},
     "output_type": "execute_result"
    }
   ],
   "source": [
    "rand(2,2)"
   ]
  },
  {
   "cell_type": "code",
   "execution_count": 14,
   "metadata": {},
   "outputs": [
    {
     "data": {
      "text/plain": [
       "2×2 Array{Int64,2}:\n",
       " 1  1\n",
       " 0  1"
      ]
     },
     "execution_count": 14,
     "metadata": {},
     "output_type": "execute_result"
    }
   ],
   "source": [
    "Q = [1 1;\n",
    "     0 1]"
   ]
  },
  {
   "cell_type": "code",
   "execution_count": 28,
   "metadata": {},
   "outputs": [
    {
     "data": {
      "text/plain": [
       "1"
      ]
     },
     "execution_count": 28,
     "metadata": {},
     "output_type": "execute_result"
    }
   ],
   "source": [
    "tr = [1 2 3 ; 4 5 6 ; 7 8 9]\n",
    "\n",
    "tr[1]"
   ]
  },
  {
   "cell_type": "code",
   "execution_count": 27,
   "metadata": {},
   "outputs": [
    {
     "name": "stdout",
     "output_type": "stream",
     "text": [
      "[8 9; 30 40]"
     ]
    }
   ],
   "source": [
    "a = [10 20; 30 40]\n",
    "\n",
    "\n",
    "#println(a)\n",
    "for x in zip(tr[:,2], tr[:,3])\n",
    "    a[1,:] = collect(x)\n",
    "end\n",
    "\n",
    "print(a)\n"
   ]
  },
  {
   "cell_type": "code",
   "execution_count": 29,
   "metadata": {},
   "outputs": [
    {
     "data": {
      "text/plain": [
       "1×3 Array{Int64,2}:\n",
       " 1  2  3"
      ]
     },
     "execution_count": 29,
     "metadata": {},
     "output_type": "execute_result"
    }
   ],
   "source": [
    "x = [1 2 3]"
   ]
  },
  {
   "cell_type": "code",
   "execution_count": 31,
   "metadata": {},
   "outputs": [
    {
     "data": {
      "text/plain": [
       "1×1 Array{Int64,2}:\n",
       " 14"
      ]
     },
     "execution_count": 31,
     "metadata": {},
     "output_type": "execute_result"
    }
   ],
   "source": [
    "x*x'"
   ]
  },
  {
   "cell_type": "code",
   "execution_count": 34,
   "metadata": {},
   "outputs": [
    {
     "data": {
      "text/plain": [
       "4.5663706143591725"
      ]
     },
     "execution_count": 34,
     "metadata": {},
     "output_type": "execute_result"
    }
   ],
   "source": [
    "2*π+ -8%(2*π)"
   ]
  },
  {
   "cell_type": "code",
   "execution_count": 39,
   "metadata": {},
   "outputs": [
    {
     "data": {
      "text/plain": [
       "5.983185307179586"
      ]
     },
     "execution_count": 39,
     "metadata": {},
     "output_type": "execute_result"
    }
   ],
   "source": [
    "mod2pi.(-0.3)"
   ]
  },
  {
   "cell_type": "code",
   "execution_count": 40,
   "metadata": {},
   "outputs": [
    {
     "data": {
      "text/plain": [
       "()"
      ]
     },
     "execution_count": 40,
     "metadata": {},
     "output_type": "execute_result"
    }
   ],
   "source": [
    "a=1\n",
    "size(a)"
   ]
  },
  {
   "cell_type": "code",
   "execution_count": 41,
   "metadata": {},
   "outputs": [
    {
     "data": {
      "text/plain": [
       "1"
      ]
     },
     "execution_count": 41,
     "metadata": {},
     "output_type": "execute_result"
    }
   ],
   "source": [
    "length(a)"
   ]
  },
  {
   "cell_type": "code",
   "execution_count": 43,
   "metadata": {},
   "outputs": [
    {
     "name": "stdout",
     "output_type": "stream",
     "text": [
      "9\n",
      "8\n",
      "7\n",
      "6\n",
      "5\n",
      "4\n",
      "3\n",
      "2\n",
      "1\n",
      "0\n"
     ]
    }
   ],
   "source": [
    "n = 10\n",
    "for k in n-1:-1:0\n",
    "    println(k)\n",
    "end\n"
   ]
  },
  {
   "cell_type": "code",
   "execution_count": 46,
   "metadata": {},
   "outputs": [
    {
     "data": {
      "text/plain": [
       "2×2 Array{Int64,2}:\n",
       " 1  2\n",
       " 3  4"
      ]
     },
     "execution_count": 46,
     "metadata": {},
     "output_type": "execute_result"
    }
   ],
   "source": [
    "a = [1 2 ; 3 4]"
   ]
  },
  {
   "cell_type": "code",
   "execution_count": 47,
   "metadata": {},
   "outputs": [
    {
     "data": {
      "text/plain": [
       "2-element Array{Int64,1}:\n",
       " 1\n",
       " 2"
      ]
     },
     "execution_count": 47,
     "metadata": {},
     "output_type": "execute_result"
    }
   ],
   "source": [
    "a[1,:]"
   ]
  },
  {
   "cell_type": "code",
   "execution_count": 52,
   "metadata": {},
   "outputs": [
    {
     "name": "stdout",
     "output_type": "stream",
     "text": [
      "\u001b[32m\u001b[1m Resolving\u001b[22m\u001b[39m package versions...\n",
      "\u001b[32m\u001b[1m Installed\u001b[22m\u001b[39m TensorOperations ─ v0.7.1\n",
      "\u001b[32m\u001b[1m  Updating\u001b[22m\u001b[39m `~/.julia/environments/v1.0/Project.toml`\n",
      " \u001b[90m [6aa20fa7]\u001b[39m\u001b[92m + TensorOperations v0.7.1\u001b[39m\n",
      "\u001b[32m\u001b[1m  Updating\u001b[22m\u001b[39m `~/.julia/environments/v1.0/Manifest.toml`\n",
      " \u001b[90m [6aa20fa7]\u001b[39m\u001b[92m + TensorOperations v0.7.1\u001b[39m\n"
     ]
    }
   ],
   "source": [
    "using Pkg\n",
    "Pkg.add(\"TensorOperations\")\n"
   ]
  },
  {
   "cell_type": "code",
   "execution_count": 51,
   "metadata": {},
   "outputs": [
    {
     "data": {
      "text/plain": [
       "10×10 Array{Complex,2}:\n",
       " 0+0im  0+0im  0+0im  0+0im  0+0im  0+0im  0+0im  0+0im  0+0im  0+0im\n",
       " 0+0im  0+0im  0+0im  0+0im  0+0im  0+0im  0+0im  0+0im  0+0im  0+0im\n",
       " 0+0im  0+0im  0+0im  0+0im  0+0im  0+0im  0+0im  0+0im  0+0im  0+0im\n",
       " 0+0im  0+0im  0+0im  0+0im  0+0im  0+0im  0+0im  0+0im  0+0im  0+0im\n",
       " 0+0im  0+0im  0+0im  0+0im  0+0im  0+0im  0+0im  0+0im  0+0im  0+0im\n",
       " 0+0im  0+0im  0+0im  0+0im  0+0im  0+0im  0+0im  0+0im  0+0im  0+0im\n",
       " 0+0im  0+0im  0+0im  0+0im  0+0im  0+0im  0+0im  0+0im  0+0im  0+0im\n",
       " 0+0im  0+0im  0+0im  0+0im  0+0im  0+0im  0+0im  0+0im  0+0im  0+0im\n",
       " 0+0im  0+0im  0+0im  0+0im  0+0im  0+0im  0+0im  0+0im  0+0im  0+0im\n",
       " 0+0im  0+0im  0+0im  0+0im  0+0im  0+0im  0+0im  0+0im  0+0im  0+0im"
      ]
     },
     "execution_count": 51,
     "metadata": {},
     "output_type": "execute_result"
    }
   ],
   "source": [
    "Mat_theta_end = zeros(Complex, 10,10)"
   ]
  },
  {
   "cell_type": "code",
   "execution_count": null,
   "metadata": {},
   "outputs": [],
   "source": []
  }
 ],
 "metadata": {
  "kernelspec": {
   "display_name": "Julia 1.0.1",
   "language": "julia",
   "name": "julia-1.0"
  },
  "language_info": {
   "file_extension": ".jl",
   "mimetype": "application/julia",
   "name": "julia",
   "version": "1.0.1"
  }
 },
 "nbformat": 4,
 "nbformat_minor": 2
}
