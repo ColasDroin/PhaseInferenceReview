{
 "cells": [
  {
   "cell_type": "markdown",
   "metadata": {},
   "source": [
    "# Import packages"
   ]
  },
  {
   "cell_type": "code",
   "execution_count": 19,
   "metadata": {},
   "outputs": [],
   "source": [
    "####import packages\n",
    "using FFTW\n",
    "using Distributions\n",
    "#using NBInclude\n",
    "#using Plots\n",
    "using PyCall\n",
    "using PyPlot\n",
    "#using WebIO\n",
    "using Pkg\n",
    "using Interpolations\n",
    "using LinearAlgebra\n",
    "using Profile\n",
    "using TensorOperations\n",
    "import NaNMath\n",
    "using DelimitedFiles\n",
    "using Hilbert\n",
    "\n",
    "#get to the root of the project to ease path later on\n",
    "if pwd()[end-7:end] == \"Analysis\"\n",
    "    cd(\"..\")\n",
    "end\n",
    "\n",
    "###import local files (CAUTION: kernel must be restarted if changes are made)\n",
    "include(\"src/Coupling.jl\") \n",
    "include(\"src/CouplingOptimization.jl\")\n",
    "include(\"src/Phase.jl\") \n",
    "include(\"src/PhaseSim.jl\") \n",
    "include(\"src/URTS.jl\") \n",
    "include(\"src/SignalAnalysis.jl\") \n",
    "\n",
    "#@nbinclude(\"Types.ipynb\")\n",
    "\n",
    "###set nice plotting style\n",
    "@pyimport matplotlib.pyplot as p\n",
    "p.style[:use](\"seaborn-whitegrid\")\n",
    "\n"
   ]
  },
  {
   "cell_type": "markdown",
   "metadata": {},
   "source": [
    "# Get the dict of traces and inferred parameters"
   ]
  },
  {
   "cell_type": "code",
   "execution_count": 32,
   "metadata": {},
   "outputs": [],
   "source": [
    "d_all = Dict()\n",
    "for namedir in readdir(\"Data\")\n",
    "    if namedir==\".DS_Store\"\n",
    "        continue\n",
    "    end\n",
    "    \n",
    "    #get list of real parameters\n",
    "    l_param_true = readdlm(\"Data/\"*namedir*\"/Parameters/original.txt\")\n",
    "    \n",
    "    #get list of inferred parameters\n",
    "    l_param_inf = readdlm(\"Data/\"*namedir*\"/Parameters/inferred.txt\")\n",
    "    w_theta_inf = readdlm(\"Data/\"*namedir*\"/Parameters/inferred_w_theta.txt\")\n",
    "    w_phi_inf = readdlm(\"Data/\"*namedir*\"/Parameters/inferred_w_phi.txt\")\n",
    "    \n",
    "    #remove useless dimensions\n",
    "    w_theta_inf = dropdims(w_theta_inf; dims=2)\n",
    "    w_phi_inf = dropdims(w_phi_inf; dims=2)\n",
    "    \n",
    "    \n",
    "    #replace the string by the real waveforms in l_param_inf\n",
    "    l_param_inf[1] = w_theta_inf\n",
    "    l_param_inf[2] = w_phi_inf\n",
    "    \n",
    "    #get traces\n",
    "    l_traces = []\n",
    "    for name_idx_trace in readdir(\"Data/\"*namedir*\"/Traces\")\n",
    "        trace = readdlm(\"Data/\"*namedir*\"/Traces/\"*name_idx_trace)\n",
    "        push!(l_traces,trace)\n",
    "    end\n",
    "    \n",
    "    #add traces and parameters to dictionnary\n",
    "    d_all[l_param_true] = (l_traces, l_param_inf)\n",
    "end   "
   ]
  },
  {
   "cell_type": "markdown",
   "metadata": {},
   "source": [
    "# Build a function for phase inference for each different method"
   ]
  },
  {
   "cell_type": "markdown",
   "metadata": {},
   "source": [
    "## non-parametric methods"
   ]
  },
  {
   "cell_type": "markdown",
   "metadata": {},
   "source": [
    "### Linear interpolation"
   ]
  },
  {
   "cell_type": "code",
   "execution_count": 33,
   "metadata": {},
   "outputs": [
    {
     "data": {
      "text/plain": [
       "compute_phase_linear_interpolation (generic function with 1 method)"
      ]
     },
     "execution_count": 33,
     "metadata": {},
     "output_type": "execute_result"
    }
   ],
   "source": [
    "function compute_phase_linear_interpolation_all_traces(l_traces)\n",
    "    ll_phase = []\n",
    "    for (idx, trace) in enumerate(l_traces)\n",
    "        trace_theta = trace[:,3]\n",
    "        trace_phi = trace[:,4]\n",
    "        l_phase_theta = compute_phase_linear_interpolation(trace_theta)\n",
    "        l_phase_phi = compute_phase_linear_interpolation(trace_phi)\n",
    "        push!(ll_phase, hcat(l_phase_theta, l_phase_phi ))\n",
    "    end\n",
    "    #return phase\n",
    "    return ll_phase\n",
    "end\n",
    "   \n",
    "function compute_phase_linear_interpolation(trace)\n",
    "    #first remove high frequency noise (mainly extrinsic noise)\n",
    "    smoothed_trace = denoise(trace[1:end-1],TI=true)  \n",
    "    #compute extrema\n",
    "    l_extrema = return_maxima_indexes(smoothed_trace)\n",
    "    #find if first extremum is a peak or a trough\n",
    "    initial_index = smoothed_trace[l_extrema[1]]>smoothed_trace[l_extrema[2]] ? 2 : 1\n",
    "    l_idx_peak = l_extrema[initial_index:2:end]\n",
    "\n",
    "    ###make linear interpolation between the peaks\n",
    "    l_phase = Array{Float64}(undef, 0, 1)\n",
    "    for (idx_peak_1, idx_peak_2) in zip(l_idx_peak[1:end-1],l_idx_peak[2:end] )\n",
    "        l_phase = vstack(l_phase, range(0, stop=2*π, length=idx_peak_2-idx_peak_1+1)[1:end-1])\n",
    "    end\n",
    "    #return phase\n",
    "    return l_phase\n",
    "end\n",
    "\n",
    "        "
   ]
  },
  {
   "cell_type": "markdown",
   "metadata": {},
   "source": [
    "### Hilbert transform"
   ]
  },
  {
   "cell_type": "code",
   "execution_count": 34,
   "metadata": {},
   "outputs": [],
   "source": [
    "#TODO"
   ]
  },
  {
   "cell_type": "markdown",
   "metadata": {},
   "source": [
    "## Parametric methods"
   ]
  },
  {
   "cell_type": "markdown",
   "metadata": {},
   "source": [
    "### Build the variables used by parametric methods"
   ]
  },
  {
   "cell_type": "code",
   "execution_count": 36,
   "metadata": {},
   "outputs": [],
   "source": [
    "#the coupling is assumed blank initially\n",
    "\n",
    "resolution = 50\n",
    "d_var = Dict()\n",
    "for (l_param_true, (l_traces, l_param_inf)) in d_all\n",
    "    \n",
    "    (w_theta, w_phi, name_F_theta, name_F_phi, \n",
    "    sigma_theta, sigma_phi, σₑ1, σₑ2, \n",
    "    mu_A_theta, gamma_A_theta, sigma_A_theta, \n",
    "    mu_B_theta, gamma_B_theta, sigma_B_theta, \n",
    "    mu_A_phi, gamma_A_phi, sigma_A_phi, \n",
    "    mu_B_phi, gamma_B_phi, sigma_B_phi) = l_param_inf\n",
    "\n",
    "    ###first signal\n",
    "    FT_ω_θ = fft(w_theta)\n",
    "    FT_F_θ = fft(zeros(resolution, resolution))\n",
    "    #build variable\n",
    "    Theta = Phase(\"Theta\"; T=24., σ_ϕ = sigma_theta, FT_ω = FT_ω_θ, σₑ = σₑ1, FT_F = FT_F_θ, μₐ = mu_A_theta,γₐ = gamma_A_theta, σₐ = sigma_A_theta, μᵦ = mu_B_theta, γᵦ = gamma_B_theta, σᵦ = sigma_B_theta)#, ϕ₀ = 0)\n",
    "\n",
    "    ####second signal\n",
    "    FT_ω_ϕ = fft(w_phi)\n",
    "    FT_F_ϕ = fft(zeros(resolution, resolution))\n",
    "    #build variable\n",
    "    Phi = Phase(\"Phi\"; T=24., σ_ϕ = sigma_phi, FT_ω = FT_ω_ϕ, σₑ = σₑ2, FT_F = FT_F_ϕ, μₐ = mu_A_phi,γₐ = gamma_A_phi, σₐ = sigma_A_phi, μᵦ = mu_B_phi, γᵦ = gamma_B_phi, σᵦ = sigma_B_phi)#, ϕ₀ = 0)\n",
    "    \n",
    "    d_var[l_param_true] = (Theta, Phi)\n",
    "end"
   ]
  },
  {
   "cell_type": "markdown",
   "metadata": {},
   "source": [
    "### Build the model used by parametric methods"
   ]
  },
  {
   "cell_type": "code",
   "execution_count": 37,
   "metadata": {},
   "outputs": [
    {
     "data": {
      "text/plain": [
       "h (generic function with 1 method)"
      ]
     },
     "execution_count": 37,
     "metadata": {},
     "output_type": "execute_result"
    }
   ],
   "source": [
    "### Define model for transitions and emissions\n",
    "\n",
    "#transition\n",
    "function f(x, dt, Theta, Phi)\n",
    "    return [x[1]+Theta.f*dt+F_fast(Theta, x[1],x[2], Theta.FT_F)*dt, \n",
    "            x[2]+Phi.f*dt+F_fast(Phi, x[1],x[2], Phi.FT_F)*dt]\n",
    "end\n",
    "\n",
    "#Emission\n",
    "function h(x, Theta, Phi)\n",
    "    return [ω_fast(Theta, x[1]),\n",
    "            ω_fast(Phi, x[2])]\n",
    "end"
   ]
  },
  {
   "cell_type": "markdown",
   "metadata": {},
   "source": [
    "### URTS"
   ]
  },
  {
   "cell_type": "code",
   "execution_count": 39,
   "metadata": {},
   "outputs": [
    {
     "data": {
      "text/plain": [
       "run_URTS_all_traces (generic function with 4 methods)"
      ]
     },
     "execution_count": 39,
     "metadata": {},
     "output_type": "execute_result"
    }
   ],
   "source": [
    "#compute phase of the 2 signals contained in the list trace (the 2 signals must be computed conjointly in case of coupling)\n",
    "function run_URTS(trace, Theta, Phi, α = 0.01, β = 1., κ = 0., plot = false)\n",
    "    #############\n",
    "    urts = URTS(dim_x = 2, dim_z = 2, dt = dt, hx = h, fx = f, α = α , β = β, κ = κ)\n",
    "    # make an imperfect starting guess\n",
    "    urts.x = [0, 0]\n",
    "\n",
    "    urts.Q = [Theta.σ_ϕ 0;\n",
    "              0 Phi.σ_ϕ]\n",
    "\n",
    "\n",
    "\n",
    "    urts.R =[Theta.σₑ*1.5  0. ;\n",
    "             0.  Phi.σₑ*1.5   ]\n",
    "\n",
    "\n",
    "    urts.P = urts.P.* 0.1\n",
    "    urts.P[1,1]=1\n",
    "    urts.P[2,2]=1\n",
    "\n",
    "\n",
    "    x_inf =  Array{Float64}(undef, 0, 2)\n",
    "    p_inf = Array{Float64}(undef, 0, 2, 2)\n",
    "    #make prediction\n",
    "    for (i_test, obs) in enumerate(zip(trace[:,3], trace[:,4]))\n",
    "        #println(\"iteration \", i_test)\n",
    "        #println(\"before predict\")\n",
    "        predict(urts, l_arg_f = [Theta.FT_F, Phi.FT_F])\n",
    "        #println(\"after predict, before updata\")\n",
    "        update(urts,collect(obs))\n",
    "        #println(\"after update\")\n",
    "        x_inf = [x_inf; urts.x']\n",
    "        p_inf = cat(p_inf, reshape(urts.P, (1,size(urts.P)...)), dims = 1)\n",
    "        #println(\"end iteration\")\n",
    "        #println(urts.P)\n",
    "        #break\n",
    "    end\n",
    "\n",
    "    #println(\"begin smoothing\")\n",
    "    #smooth\n",
    "    x, p, K, Pp = urts_smoother(urts, x_inf, p_inf, l_arg_f = [Theta, Phi])\n",
    "    #println(\"end smoothing\")\n",
    "    #get joint distribution\n",
    "    #println(\"begin joint distribution\")\n",
    "    jP_x, jP_P = joint_distribution(urts, p_inf, x, p, K, Pp)\n",
    "    #println(\"end joint distribution\")\n",
    "    res = [x, p, jP_x, jP_P]\n",
    "    \n",
    "    #plot\n",
    "    if plot\n",
    "        #print(rk.log_likelihood)\n",
    "        plot_trace(trace, x_inf, p_inf)\n",
    "    end\n",
    "    ll = total_ll(urts)\n",
    "    return res, ll\n",
    "end\n",
    "    \n",
    "\n",
    "\n",
    "function run_URTS_all_traces(l_traces, Theta, Phi, α = 0.01, β = 1., κ = 0.)\n",
    "    #loop over all traces\n",
    "    l_res = []\n",
    "    l_ll = []\n",
    "    for idx_trace in size(l_traces, 1)\n",
    "        if idx_trace%20==0\n",
    "            println(idx_trace)\n",
    "        end\n",
    "        trace = l_traces[idx_trace]\n",
    "        res, ll = run_URTS(trace, Theta, Phi, α = 0.01, β = 1., κ = 0., plot = false)\n",
    "        push!(l_res, res)\n",
    "        push!(l_ll, ll)\n",
    "    end\n",
    "    return l_res, l_ll\n",
    "end\n",
    "    \n",
    "\n",
    "\n"
   ]
  },
  {
   "cell_type": "markdown",
   "metadata": {},
   "source": [
    "## HMM"
   ]
  },
  {
   "cell_type": "code",
   "execution_count": 6,
   "metadata": {},
   "outputs": [],
   "source": [
    "#TODO"
   ]
  },
  {
   "cell_type": "markdown",
   "metadata": {},
   "source": [
    "# Start inference for every different signal"
   ]
  },
  {
   "cell_type": "code",
   "execution_count": null,
   "metadata": {},
   "outputs": [],
   "source": [
    "for (l_param, (l_traces, l_param_inf) in d_cond\n",
    "    l_param_ind = [w_theta, w_phi, \"none\", \"none\", sigma_theta, sigma_phi, σₑ1, σₑ2, \n",
    "                                              mu_A_theta, gamma_A_theta, sigma_A_theta, \n",
    "                                              mu_B_theta, gamma_B_theta, sigma_B_theta, \n",
    "                                              mu_A_phi, gamma_A_phi, sigma_A_phi, \n",
    "                                              mu_B_phi, gamma_B_phi, sigma_B_phi]\n",
    "    for (idx, trace) in enumerate(l_traces)\n",
    "            #TODO\n",
    "    end\n",
    "end\n",
    "            \n",
    "        \n",
    "        "
   ]
  },
  {
   "cell_type": "code",
   "execution_count": 2,
   "metadata": {},
   "outputs": [
    {
     "data": {
      "text/plain": [
       "h (generic function with 3 methods)"
      ]
     },
     "execution_count": 2,
     "metadata": {},
     "output_type": "execute_result"
    }
   ],
   "source": []
  },
  {
   "cell_type": "markdown",
   "metadata": {},
   "source": [
    "## Optimize coupling"
   ]
  },
  {
   "cell_type": "code",
   "execution_count": 3,
   "metadata": {},
   "outputs": [
    {
     "ename": "UndefVarError",
     "evalue": "UndefVarError: Theta not defined",
     "output_type": "error",
     "traceback": [
      "UndefVarError: Theta not defined",
      "",
      "Stacktrace:",
      " [1] (::getfield(Main, Symbol(\"#kw##opt\")))(::NamedTuple{(:N_iter, :n_tr, :resolution, :do_plot),Tuple{Int64,Int64,Int64,Bool}}, ::typeof(opt)) at ./none:0",
      " [2] top-level scope at In[3]:146"
     ]
    }
   ],
   "source": [
    "\n",
    "   \n",
    "\n",
    "\n",
    "function opt(;N_iter = 10, n_tr = 100, resolution = 50,  α = 0.01, β = 1., κ = 0., lambd = 2, Theta = Theta, Phi = Phi, do_plot = false)\n",
    "    #initial guess for coupling is white noise\n",
    "    F_theta = zeros(resolution, resolution) #(rand( resolution,resolution).-0.5).*0.001\n",
    "    F_phi = zeros(resolution, resolution)  #(rand( resolution,resolution).-0.5).*0.001\n",
    "    l_ll = []\n",
    "    for it_opt in 1:N_iter\n",
    "                \n",
    "        FT_θ =  fft(F_theta)#Theta.FT_F   #\n",
    "        FT_ϕ =  fft(F_phi)#Phi.FT_F     #\n",
    "                \n",
    "        #reset hidden variables (to recompute coupling)\n",
    "        reset_F(Theta)\n",
    "        reset_F(Phi)\n",
    "        \n",
    "        l_res, l_ll = compute_phases(FT_θ, FT_ϕ, n_tr,  α , β, κ )\n",
    "        l_x = [res[1] for res in l_res]\n",
    "        l_p = [res[2] for res in l_res]\n",
    "        l_jP_x = [res[3] for res in l_res]\n",
    "        l_jP_P = [res[4] for res in l_res]\n",
    "\n",
    "        #println(l_p[1])\n",
    "        \n",
    "        F_theta, F_phi, F_theta_bad, F_phi_bad, Mat_norm, FT_θ, FT_ϕ = compute_coupling_discretization(l_x, l_p, l_jP_x, l_jP_P, resolution, lambd)\n",
    "        #FT_θ, FT_ϕ = compute_coupling_fourier( FT_θ, FT_ϕ, size(FT_θ,1) , l_x, l_p, l_jP_x, l_jP_P, α, β, κ, lambd, Theta.f, Phi.f, dt )\n",
    "        \n",
    "        F_theta = real.(ifft(FT_θ)) \n",
    "        F_phi = real.(ifft(FT_ϕ ))\n",
    "        \n",
    "        if do_plot\n",
    "            #println(\"Iteration \", it_opt, \" done\")\n",
    "            #plot \n",
    "            plot_F(F_theta, interpolation = \"none\", title_fig = \"Coupling_θ_prob\", save = true)\n",
    "            plot_F(F_theta_bad, interpolation = \"none\", title_fig = \"Coupling_θ_bad\", save = true)\n",
    "\n",
    "            plot_F(F_phi, interpolation = \"none\", title_fig = \"Coupling_ϕ_prob\", save = true)\n",
    "            plot_F(F_phi_bad, interpolation = \"none\", title_fig = \"Coupling_ϕ_bad\", save = true)\n",
    "\n",
    "            #plot_F(Mat_norm, vmin = 0, vmax = 0.5)\n",
    "        end\n",
    "                \n",
    "        #println(\"LL : \", sum(l_ll))\n",
    "    end\n",
    "\n",
    "    return F_theta, F_phi, sum(l_ll)\n",
    "end\n",
    "\n",
    "\n",
    "function opt_sigma_parameters(;n_tr = 100, resolution = 20,  lambd = 2, Theta = Theta, Phi = Phi)\n",
    "    ls = Array{Float64}(undef, 0, 5,)\n",
    "    s = 0\n",
    "    ll = 0\n",
    "    \n",
    "    F_θ =  ifft(Theta.FT_F)\n",
    "    F_ϕ =  ifft(Phi.FT_F )\n",
    "    \n",
    "    \n",
    "    for alpha in 0.01:0.2:2\n",
    "        for beta in 0:0.2:2\n",
    "            for kappa in 0:0.2:2\n",
    "                try\n",
    "                    F_theta, F_phi, ll = opt(N_iter = 1, n_tr = n_tr, resolution = resolution,  α = alpha, β = beta, κ = kappa, lambd = lambd, Theta = Theta, Phi = Phi)\n",
    "                    s = NaNMath.sum(abs.(F_theta-F_θ)+abs.(F_phi-F_ϕ))\n",
    "                catch\n",
    "                    s = 100000000\n",
    "                    ll = -1000000000\n",
    "                end\n",
    "                    \n",
    "                \n",
    "                ls = vcat(ls, [alpha beta kappa s ll])\n",
    "                println(alpha, beta, kappa, s, ll)\n",
    "            end\n",
    "        end\n",
    "    end\n",
    "    return ls\n",
    "end\n",
    "        \n",
    "\n",
    "        \n",
    "opt(N_iter = 1, n_tr = 100, resolution = 50, do_plot = true)#,  α = 1.81, β = 0., κ = 0.6)\n",
    "#ls = opt_sigma_parameters(n_tr = 10, resolution = 30,  lambd = 2, Theta = Theta, Phi = Phi)        \n"
   ]
  },
  {
   "cell_type": "code",
   "execution_count": 4,
   "metadata": {},
   "outputs": [
    {
     "ename": "UndefVarError",
     "evalue": "UndefVarError: ls not defined",
     "output_type": "error",
     "traceback": [
      "UndefVarError: ls not defined",
      "",
      "Stacktrace:",
      " [1] top-level scope at In[4]:1"
     ]
    }
   ],
   "source": [
    "#keep only best fits, and the looked for the less biased ones\n",
    "best_ll_ls = sortslices(ls, dims = 1, by=x->(x[5]))[end-100:end,:]\n",
    "less_biased_ls = sortslices(best_ll_ls, dims = 1, by=x->(x[4]))[1:10,:]\n",
    "\n"
   ]
  },
  {
   "cell_type": "code",
   "execution_count": 5,
   "metadata": {},
   "outputs": [],
   "source": [
    "#try the combination 1.81  0.0  0.6\n",
    "#opt(N_iter = 1, n_tr = 100, resolution = 20, α = 1.81, β = 0., κ = 0.6, do_plot = true)"
   ]
  },
  {
   "cell_type": "code",
   "execution_count": 6,
   "metadata": {},
   "outputs": [
    {
     "name": "stderr",
     "output_type": "stream",
     "text": [
      "┌ Warning: There were no samples collected. Run your program longer (perhaps by\n",
      "│ running it multiple times), or adjust the delay between samples with\n",
      "│ `Profile.init()`.\n",
      "└ @ Profile /Users/osx/buildbot/slave/package_osx64/build/usr/share/julia/stdlib/v1.0/Profile/src/Profile.jl:659\n"
     ]
    }
   ],
   "source": [
    "#@profile opt(1, 20, 50)\n",
    "open(\"prof.txt\", \"w\") do s\n",
    "    Profile.print(IOContext(s, :displaysize => (5000, 5000)), format=:flat)\n",
    "end"
   ]
  },
  {
   "cell_type": "code",
   "execution_count": 7,
   "metadata": {},
   "outputs": [
    {
     "name": "stdout",
     "output_type": "stream",
     "text": [
      "[1, 2, 3]\n"
     ]
    }
   ],
   "source": [
    "x = [1 , 2 , 3]\n",
    "println(x)"
   ]
  },
  {
   "cell_type": "code",
   "execution_count": null,
   "metadata": {},
   "outputs": [],
   "source": []
  },
  {
   "cell_type": "code",
   "execution_count": null,
   "metadata": {},
   "outputs": [],
   "source": []
  },
  {
   "cell_type": "code",
   "execution_count": null,
   "metadata": {},
   "outputs": [],
   "source": []
  }
 ],
 "metadata": {
  "anaconda-cloud": {},
  "kernelspec": {
   "display_name": "Julia 1.0.1",
   "language": "julia",
   "name": "julia-1.0"
  },
  "language_info": {
   "file_extension": ".jl",
   "mimetype": "application/julia",
   "name": "julia",
   "version": "1.0.1"
  }
 },
 "nbformat": 4,
 "nbformat_minor": 2
}
